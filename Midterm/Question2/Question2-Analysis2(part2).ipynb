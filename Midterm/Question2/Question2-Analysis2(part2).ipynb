{
 "cells": [
  {
   "cell_type": "code",
   "execution_count": 2,
   "metadata": {
    "collapsed": true
   },
   "outputs": [],
   "source": [
    "import pylab as plt\n",
    "from bs4 import BeautifulSoup\n",
    "from collections import Counter\n",
    "from nltk.tokenize import word_tokenize\n",
    "import requests\n",
    "import json\n",
    "import os\n",
    "import csv\n",
    "import re"
   ]
  },
  {
   "cell_type": "code",
   "execution_count": 3,
   "metadata": {
    "collapsed": false
   },
   "outputs": [],
   "source": [
    "relativePath = os.getcwd()\n",
    "apiKey=os.environ['api_key']\n",
    "#considering sample dataset\n",
    "year = 2017\n",
    "month = 1\n",
    "\n",
    "url = \"https://api.nytimes.com/svc/archive/v1/\"+str(year)+\"/\"+str(month)+\".json?api-key=\"+apiKey\n",
    "response = requests.get(url)\n",
    "content  = response.json()\n",
    "\n",
    "with open(relativePath+\"/\"+'Midterm/data/jsonData_NY'+\"/\"+str(month)+\"-\"+str(year)+'.json', 'w') as file:\n",
    "    json.dump(content, file)"
   ]
  },
  {
   "cell_type": "code",
   "execution_count": 4,
   "metadata": {
    "collapsed": false
   },
   "outputs": [
    {
     "name": "stdout",
     "output_type": "stream",
     "text": [
      "30542\n",
      "[(None, 18402), ('Politics', 1361), ('Asia Pacific', 810), ('Europe', 670), ('Music', 536), ('Dealbook', 522), ('Pro Football', 510), ('Middle East', 509), ('College Football', 352), ('Television', 349)]\n"
     ]
    }
   ],
   "source": [
    "path = relativePath+\"/\"+'midterm/data/jsonData_NY'\n",
    "#Analysisng the data\n",
    "def getArticles(file, category):\n",
    "    config = json.loads(open(file).read())\n",
    "    for x in range(len(config['response']['docs'])):\n",
    "        section = config['response']['docs'][x]['subsection_name']\n",
    "        category.append(section)\n",
    "\n",
    "    #we have to append all the article to list\n",
    "    \n",
    "\n",
    "category = []\n",
    "for directory, subDirectory, filename in os.walk(path):\n",
    "    for file in filename:\n",
    "        getArticles(os.path.join(directory, file), category)\n",
    "\n",
    "print(len(category))\n",
    "\n",
    "fcount={} \n",
    "#by looping we are getting the count of every word and storing in Dictionary.\n",
    "\n",
    "for word in category:\n",
    "    count = fcount.get(word,0)\n",
    "    fcount[word] = count + 1\n",
    "\n",
    "sortedDict = sorted(fcount.items(), key=lambda x: (-x[1], x[0])) \n",
    "print(sortedDict[:10])\n",
    "\n",
    "\n",
    "i = 0\n",
    "oredering = []\n",
    "\n",
    "for rank in range(len(sortedDict)):\n",
    "    obj1 = sortedDict[rank]\n",
    "    obj1 = obj1 + (i,)\n",
    "    oredering.append(obj1) \n",
    "    i = i+1\n",
    "\n",
    "fileName = relativePath+\"/\"+'midterm/TopTitles.csv'\n",
    "#loading the data in our disk\n",
    "with open(fileName, 'w', newline='') as fp:\n",
    "    a = csv.writer(fp, delimiter=',')\n",
    "    a.writerow([\"Category\", \"Count\"])\n",
    "    a.writerows(oredering[:10])\n",
    "\n",
    "\n",
    "label = []\n",
    "y = []\n",
    "z = []\n",
    "\n",
    "with open(fileName,'r') as csvfile:\n",
    "    next(csvfile)\n",
    "    next(csvfile)\n",
    "    plots = csv.reader(csvfile, delimiter=',')\n",
    "    for row in plots:\n",
    "        label.append(row[0])\n",
    "        y.append(int(row[1]))\n",
    "        z.append(int(row[2]))\n",
    "        \n",
    "\n",
    "pieFig = relativePath+\"/\"+'midterm/TopTitlesAnalysis.png'\n"
   ]
  },
  {
   "cell_type": "code",
   "execution_count": 5,
   "metadata": {
    "collapsed": true
   },
   "outputs": [],
   "source": [
    "def getValue(file, keyWords):\n",
    "    config = json.loads(open(file).read())\n",
    "    for x in range(len(config['response']['docs'])):\n",
    "        headline = config['response']['docs'][x]['headline']['main']\n",
    "        #collecting the data with polical headlines\n",
    "        if 'Politics' in headline:\n",
    "            for y in range(len(config['response']['docs'][x]['keywords'])):\n",
    "                val = config['response']['docs'][x]['keywords'][y]['value']\n",
    "                keyWords.append(val)\n",
    "keyWords = [] \n",
    "for directory, subDirectory, filename in os.walk(path):\n",
    "    for file in filename:\n",
    "        getValue(os.path.join(directory, file), keyWords)"
   ]
  },
  {
   "cell_type": "code",
   "execution_count": 6,
   "metadata": {
    "collapsed": false
   },
   "outputs": [],
   "source": [
    "#writing the uniques words to txt file.\n",
    "with open(relativePath+\"/\"+'midterm/keyWords.txt', \"w\") as f:\n",
    "    for uniq in keyWords:\n",
    "        f.write(uniq)\n",
    "        f.write(\"\\n\")"
   ]
  },
  {
   "cell_type": "code",
   "execution_count": 7,
   "metadata": {
    "collapsed": false
   },
   "outputs": [
    {
     "name": "stdout",
     "output_type": "stream",
     "text": [
      "[('Obama, Barack', 22), ('Democratic Party', 13), ('Midterm Elections (2014)', 12), ('Politics and Government', 12), ('News', 11), ('Republican Party', 11), ('Trump, Donald J', 11), ('House of Representatives', 6), ('United States Economy', 6), ('Clinton, Hillary Rodham', 5)]\n"
     ]
    }
   ],
   "source": [
    "with open(relativePath+\"/\"+'midterm/keyWords.txt', \"r\") as f:\n",
    "    data = f.readlines()\n",
    "unique_words = {} \n",
    "for word in data: \n",
    "    word = word.replace(\"\\n\", \"\")\n",
    "    if word in unique_words:\n",
    "        unique_words[word] += 1\n",
    "    else:\n",
    "        unique_words[word] = 1\n",
    "        \n",
    "sortedDict = sorted(unique_words.items(), key=lambda x: (-x[1], x[0]))\n",
    "    \n",
    "newList = sortedDict[1:11]\n",
    "print(newList)"
   ]
  },
  {
   "cell_type": "code",
   "execution_count": 8,
   "metadata": {
    "collapsed": false
   },
   "outputs": [],
   "source": [
    "i = 1#ranking the words\n",
    "newKeyWordList = []\n",
    "\n",
    "for rank in range(len(newList)):\n",
    "    obj1 = newList[rank]\n",
    "    obj1 = obj1 + (i,)\n",
    "    newKeyWordList.append(obj1)\n",
    "    i = i+1"
   ]
  },
  {
   "cell_type": "code",
   "execution_count": 9,
   "metadata": {
    "collapsed": true
   },
   "outputs": [],
   "source": [
    "#saving the output csv files\n",
    "fileNameNew = relativePath+\"/\"+'midterm/Politics.csv'\n",
    "\n",
    "with open(fileNameNew, 'w', newline='') as fp:\n",
    "    a = csv.writer(fp, delimiter=',')\n",
    "    a.writerow([\"KeyWords\", \"Count\", \"Rank\"])\n",
    "    a.writerows(newKeyWordList)\n",
    "# graphicalRepresentation of the politics and titles\n",
    "key = []\n",
    "count = []\n",
    "rank = []\n",
    "\n",
    "# plotting log-log figure\n",
    "with open(fileNameNew,'r') as csvfile:\n",
    "    next(csvfile)\n",
    "    plots = csv.reader(csvfile, delimiter=',')\n",
    "    for row in plots:\n",
    "        if 'Trump, Donald J' in row or 'Clinton, Hillary Rodham' in row:\n",
    "            key.append(str((row[0])))\n",
    "            count.append(int(row[1]))\n",
    "            rank.append(int(row[2]))"
   ]
  },
  {
   "cell_type": "code",
   "execution_count": 13,
   "metadata": {
    "collapsed": false
   },
   "outputs": [
    {
     "data": {
      "image/png": "[encoded data removed]",
      "text/plain": [
       "<matplotlib.figure.Figure at 0x1b1ab867d30>"
      ]
     },
     "metadata": {},
     "output_type": "display_data"
    }
   ],
   "source": [
    "# Plotting bar graph showing sub categories.\n",
    "exportFig = relativePath+\"/\"+'midterm/Politics.png'\n",
    "plt.figure(figsize=(10,4))\n",
    "plt.bar(rank, count, align='center', color='yellow')\n",
    "plt.xticks(rank, key, rotation=90)\n",
    "plt.xlabel(\"titles\")\n",
    "plt.ylabel(\"political posts\")\n",
    "plt.savefig(exportFig, bbox_inches='tight')\n",
    "plt.show()"
   ]
  },
  {
   "cell_type": "code",
   "execution_count": null,
   "metadata": {
    "collapsed": true
   },
   "outputs": [],
   "source": []
  }
 ],
 "metadata": {
  "anaconda-cloud": {},
  "kernelspec": {
   "display_name": "Python [conda root]",
   "language": "python",
   "name": "conda-root-py"
  },
  "language_info": {
   "codemirror_mode": {
    "name": "ipython",
    "version": 3
   },
   "file_extension": ".py",
   "mimetype": "text/x-python",
   "name": "python",
   "nbconvert_exporter": "python",
   "pygments_lexer": "ipython3",
   "version": "3.5.2"
  }
 },
 "nbformat": 4,
 "nbformat_minor": 1
}
