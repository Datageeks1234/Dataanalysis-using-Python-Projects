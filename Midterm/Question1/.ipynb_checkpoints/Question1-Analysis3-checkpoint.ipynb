{
 "cells": [
  {
   "cell_type": "code",
   "execution_count": 1,
   "metadata": {
    "collapsed": true
   },
   "outputs": [],
   "source": [
    "import re,os,string\n",
    "import matplotlib.pyplot as plt\n",
    "import nltk\n",
    "from nltk.probability import FreqDist\n",
    "from nltk.corpus import stopwords\n",
    "from nltk.stem.porter import *\n",
    "from nltk.stem.lancaster import LancasterStemmer\n",
    "from collections import Counter"
   ]
  },
  {
   "cell_type": "code",
   "execution_count": 13,
   "metadata": {
    "collapsed": false
   },
   "outputs": [],
   "source": [
    "# To extract five data: email from, email to, subject, email text, sent date\n",
    "def read_email(path):\n",
    "    fromlist = []\n",
    "    tolist = []\n",
    "    subjectlist = []\n",
    "    datelist = []\n",
    "    textlist = []\n",
    "    #  To extract data\n",
    "    for file in os.listdir(path):\n",
    "        with open(os.path.join(path, file), 'r',encoding='utf-8') as content_file:\n",
    "            content = content_file.read()\n",
    "            \n",
    "            fromlist.append(re.findall('[\\n\\r].*From: \\s*([^\\n\\r]*)', content)[0])    # Appending all from details to From_list\n",
    "            # To\n",
    "            tolist.append(re.findall('[\\n\\r].*To: \\s*([^\\n\\r]*)', content)[0])\n",
    "            # Subject\n",
    "            subject = re.findall('Subject: (?s)(.*)Mime-Version', content)[0]\n",
    "            subject = subject.replace('\\n', '')\n",
    "            subjectlist.append(subject)\n",
    "            # Date\n",
    "            datelist.append(re.findall('[\\n\\r].*Date: \\s*([^\\n\\r]*)', content)[0])\n",
    "            # Email text\n",
    "            text_original = re.findall(\"(?<=X-FileName:)[.|\\n|\\W|\\w]*\", content)[0]\n",
    "            text = text_original.replace('\\n', '')\n",
    "            text = text.replace('pallen (Non-Privileged).pst', '')\n",
    "            text = text.replace('pallen.nsf', '')\n",
    "            textlist.append(text)\n",
    "            tmp = {''}\n",
    "    # Using 5 lists to build Pandas DataFrame\n",
    "    email_data = {}\n",
    "    email_data['From'] = fromlist\n",
    "    email_data['To'] = tolist\n",
    "    email_data['Subject'] = subjectlist\n",
    "    email_data['Date'] = datelist\n",
    "    email_data['Text'] = textlist\n",
    "    return email_data\n",
    "\n",
    "# Read email from folders to dataframes\n",
    "df_allenp = read_email('C:/Users/kamal/Desktop/Git/Assignments/midterm/maildir/allen-p/_sent_mail')\n"
   ]
  },
  {
   "cell_type": "code",
   "execution_count": 14,
   "metadata": {
    "collapsed": false
   },
   "outputs": [
    {
     "name": "stdout",
     "output_type": "stream",
     "text": [
      "<class 'dict'>\n",
      "From :phillip.allen@enron.com\n",
      "To :tim.belden@enron.com\n",
      "Subject :\n",
      "Date :Mon, 14 May 2001 16:39:00 -0700 (PDT)\n",
      "Text : Here is our forecast \n",
      "-------------------------------\n",
      "From :phillip.allen@enron.com\n",
      "To :john.lavorato@enron.com\n",
      "Subject :Re:\n",
      "Date :Fri, 4 May 2001 13:51:00 -0700 (PDT)\n",
      "Text : Traveling to have a business meeting takes the fun out of the trip.  Especially if you have to prepare a presentation.  I would suggest holding the business plan meetings here then take a trip without any formal business meetings.  I would even try and get some honest opinions on whether a trip is even desired or necessary.As far as the business meetings, I think it would be more productive to try and stimulate discussions across the different groups about what is working and what is not.  Too often the presenter speaks and the others are quiet just waiting for their turn.   The meetings might be better if held in a round table discussion format.  My suggestion for where to go is Austin.  Play golf and rent a ski boat and jet ski's.  Flying somewhere takes too much time.\n",
      "-------------------------------\n",
      "From :phillip.allen@enron.com\n",
      "To :leah.arsdall@enron.com\n",
      "Subject :Re: test\n",
      "Date :Wed, 18 Oct 2000 03:00:00 -0700 (PDT)\n",
      "Text : test successful.  way to go!!!\n",
      "-------------------------------\n",
      "From :phillip.allen@enron.com\n",
      "To :randall.gay@enron.com\n",
      "Subject :\n",
      "Date :Mon, 23 Oct 2000 06:13:00 -0700 (PDT)\n",
      "Text : Randy, Can you send me a schedule of the salary and level of everyone in the scheduling group.  Plus your thoughts on any changes that need to be made.  (Patti S for example)Phillip\n",
      "-------------------------------\n",
      "From :phillip.allen@enron.com\n",
      "To :greg.piper@enron.com\n",
      "Subject :Re: Hello\n",
      "Date :Thu, 31 Aug 2000 05:07:00 -0700 (PDT)\n",
      "Text : Let's shoot for Tuesday at 11:45.  \n",
      "-------------------------------\n"
     ]
    }
   ],
   "source": [
    "print (type(df_allenp))\n",
    "fromlis = df_allenp['From']\n",
    "tolis = df_allenp['To']\n",
    "subjectlis = df_allenp['Subject']\n",
    "datelis = df_allenp['Date']\n",
    "textlis = df_allenp['Text']\n",
    "for i in range(len(fromlis[:5])):     # First Example\n",
    "    print  ('From :'+ fromlis[i])\n",
    "    print   ('To :' +tolis[i])\n",
    "    print   ('Subject :' +subjectlis[i])\n",
    "    print   ('Date :' +datelis[i])\n",
    "    print ('Text :' +textlis[i])\n",
    "    print('-------------------------------')"
   ]
  },
  {
   "cell_type": "code",
   "execution_count": 15,
   "metadata": {
    "collapsed": false
   },
   "outputs": [],
   "source": [
    "a = []\n"
   ]
  },
  {
   "cell_type": "code",
   "execution_count": 21,
   "metadata": {
    "collapsed": false
   },
   "outputs": [],
   "source": [
    "for each in tolis:\n",
    "    x = each.split('@')\n",
    "    names.append(x[0])\n",
    "    x= x[1].split('.')[0]\n",
    "    a.append(x)\n"
   ]
  },
  {
   "cell_type": "code",
   "execution_count": 22,
   "metadata": {
    "collapsed": false
   },
   "outputs": [],
   "source": [
    "from collections import Counter\n",
    "import operator\n",
    "ct = dict(Counter(a))\n",
    "sorted_list= sorted(ct.items(), key=operator.itemgetter(1), reverse = True)"
   ]
  },
  {
   "cell_type": "code",
   "execution_count": 23,
   "metadata": {
    "collapsed": false
   },
   "outputs": [
    {
     "data": {
      "text/plain": [
       "[('enron', 343),\n",
       " ('hotmail', 87),\n",
       " ('austintx', 38),\n",
       " ('austin', 32),\n",
       " ('aol', 14),\n",
       " ('yahoo', 12),\n",
       " ('keyad', 7),\n",
       " ('natsource', 7),\n",
       " ('intelligencepress', 7),\n",
       " ('rssmb', 6),\n",
       " ('creativepanel', 4),\n",
       " ('caprock', 4),\n",
       " ('thedoghousemail', 3),\n",
       " ('webtv', 3),\n",
       " ('ev1', 2),\n",
       " ('pdq', 2),\n",
       " ('thermon', 2),\n",
       " ('sempratrading', 2),\n",
       " ('juno', 2),\n",
       " ('spbank', 2)]"
      ]
     },
     "execution_count": 23,
     "metadata": {},
     "output_type": "execute_result"
    }
   ],
   "source": [
    "sorted_list[0:20]"
   ]
  },
  {
   "cell_type": "code",
   "execution_count": 25,
   "metadata": {
    "collapsed": false
   },
   "outputs": [],
   "source": [
    "names = []\n",
    "for each in tolis:\n",
    "    x = each.split('@')\n",
    "    names.append(x[0])\n",
    "    x= x[1].split('.')[0]\n",
    "    a.append(x)"
   ]
  },
  {
   "cell_type": "code",
   "execution_count": 26,
   "metadata": {
    "collapsed": true
   },
   "outputs": [],
   "source": [
    "from collections import Counter\n",
    "import operator\n",
    "ctnames = dict(Counter(names))\n",
    "sortednames= sorted(ctnames.items(), key=operator.itemgetter(1), reverse = True)"
   ]
  },
  {
   "cell_type": "code",
   "execution_count": 27,
   "metadata": {
    "collapsed": false
   },
   "outputs": [
    {
     "data": {
      "text/plain": [
       "[('stagecoachmama', 40),\n",
       " ('jsmith', 38),\n",
       " ('ina.rangel', 38),\n",
       " ('mike.grigsby', 30),\n",
       " ('pallen70', 28),\n",
       " ('keith.holst', 28),\n",
       " ('cbpres', 22),\n",
       " ('john.lavorato', 16),\n",
       " ('maryrichards7', 15),\n",
       " ('jacquestc', 14),\n",
       " ('matthew.lenhart', 12),\n",
       " ('llewter', 11),\n",
       " ('jeff.richter', 9),\n",
       " ('rlehmann', 8),\n",
       " ('stouchstone', 7),\n",
       " ('tim.belden', 6),\n",
       " ('andrea.richards', 6),\n",
       " ('mac.d.hargrove', 6),\n",
       " ('gthorse', 6),\n",
       " ('tara.sweitzer', 5)]"
      ]
     },
     "execution_count": 27,
     "metadata": {},
     "output_type": "execute_result"
    }
   ],
   "source": [
    "sortednames[0:20]"
   ]
  },
  {
   "cell_type": "code",
   "execution_count": 28,
   "metadata": {
    "collapsed": false
   },
   "outputs": [
    {
     "data": {
      "text/plain": [
       "['tim.belden@enron.com',\n",
       " 'john.lavorato@enron.com',\n",
       " 'leah.arsdall@enron.com',\n",
       " 'randall.gay@enron.com',\n",
       " 'greg.piper@enron.com',\n",
       " 'greg.piper@enron.com',\n",
       " 'david.l.johnson@enron.com, john.shafer@enron.com',\n",
       " 'joyce.teixeira@enron.com',\n",
       " 'mark.scott@enron.com',\n",
       " 'zimam@enron.com',\n",
       " 'buck.buckner@honeywell.com',\n",
       " 'stagecoachmama@hotmail.com',\n",
       " 'keith.holst@enron.com',\n",
       " 'keith.holst@enron.com',\n",
       " 'david.delainey@enron.com']"
      ]
     },
     "execution_count": 28,
     "metadata": {},
     "output_type": "execute_result"
    }
   ],
   "source": [
    "tolis[:15]"
   ]
  },
  {
   "cell_type": "code",
   "execution_count": 36,
   "metadata": {
    "collapsed": false
   },
   "outputs": [
    {
     "ename": "TypeError",
     "evalue": "unsupported operand type(s) for -: 'str' and 'float'",
     "output_type": "error",
     "traceback": [
      "\u001b[0;31m---------------------------------------------------------------------------\u001b[0m",
      "\u001b[0;31mTypeError\u001b[0m                                 Traceback (most recent call last)",
      "\u001b[0;32m<ipython-input-36-5f66790cf5bc>\u001b[0m in \u001b[0;36m<module>\u001b[0;34m()\u001b[0m\n\u001b[1;32m     14\u001b[0m \u001b[1;33m\u001b[0m\u001b[0m\n\u001b[1;32m     15\u001b[0m \u001b[1;33m\u001b[0m\u001b[0m\n\u001b[0;32m---> 16\u001b[0;31m \u001b[0mplt\u001b[0m\u001b[1;33m.\u001b[0m\u001b[0mbar\u001b[0m\u001b[1;33m(\u001b[0m\u001b[0mmails\u001b[0m\u001b[1;33m,\u001b[0m \u001b[0mnumber_mails\u001b[0m\u001b[1;33m,\u001b[0m \u001b[0malign\u001b[0m\u001b[1;33m=\u001b[0m\u001b[1;34m'center'\u001b[0m\u001b[1;33m)\u001b[0m\u001b[1;33m\u001b[0m\u001b[0m\n\u001b[0m\u001b[1;32m     17\u001b[0m \u001b[0mplt\u001b[0m\u001b[1;33m.\u001b[0m\u001b[0mxticks\u001b[0m\u001b[1;33m(\u001b[0m\u001b[0mmails\u001b[0m\u001b[1;33m,\u001b[0m \u001b[0mLABELS\u001b[0m\u001b[1;33m)\u001b[0m\u001b[1;33m\u001b[0m\u001b[0m\n\u001b[1;32m     18\u001b[0m \u001b[1;33m\u001b[0m\u001b[0m\n",
      "\u001b[0;32mC:\\Users\\kamal\\Anaconda3\\lib\\site-packages\\matplotlib\\pyplot.py\u001b[0m in \u001b[0;36mbar\u001b[0;34m(left, height, width, bottom, hold, data, **kwargs)\u001b[0m\n\u001b[1;32m   2648\u001b[0m     \u001b[1;32mtry\u001b[0m\u001b[1;33m:\u001b[0m\u001b[1;33m\u001b[0m\u001b[0m\n\u001b[1;32m   2649\u001b[0m         ret = ax.bar(left, height, width=width, bottom=bottom, data=data,\n\u001b[0;32m-> 2650\u001b[0;31m                      **kwargs)\n\u001b[0m\u001b[1;32m   2651\u001b[0m     \u001b[1;32mfinally\u001b[0m\u001b[1;33m:\u001b[0m\u001b[1;33m\u001b[0m\u001b[0m\n\u001b[1;32m   2652\u001b[0m         \u001b[0max\u001b[0m\u001b[1;33m.\u001b[0m\u001b[0mhold\u001b[0m\u001b[1;33m(\u001b[0m\u001b[0mwashold\u001b[0m\u001b[1;33m)\u001b[0m\u001b[1;33m\u001b[0m\u001b[0m\n",
      "\u001b[0;32mC:\\Users\\kamal\\Anaconda3\\lib\\site-packages\\matplotlib\\__init__.py\u001b[0m in \u001b[0;36minner\u001b[0;34m(ax, *args, **kwargs)\u001b[0m\n\u001b[1;32m   1816\u001b[0m                     warnings.warn(msg % (label_namer, func.__name__),\n\u001b[1;32m   1817\u001b[0m                                   RuntimeWarning, stacklevel=2)\n\u001b[0;32m-> 1818\u001b[0;31m             \u001b[1;32mreturn\u001b[0m \u001b[0mfunc\u001b[0m\u001b[1;33m(\u001b[0m\u001b[0max\u001b[0m\u001b[1;33m,\u001b[0m \u001b[1;33m*\u001b[0m\u001b[0margs\u001b[0m\u001b[1;33m,\u001b[0m \u001b[1;33m**\u001b[0m\u001b[0mkwargs\u001b[0m\u001b[1;33m)\u001b[0m\u001b[1;33m\u001b[0m\u001b[0m\n\u001b[0m\u001b[1;32m   1819\u001b[0m         \u001b[0mpre_doc\u001b[0m \u001b[1;33m=\u001b[0m \u001b[0minner\u001b[0m\u001b[1;33m.\u001b[0m\u001b[0m__doc__\u001b[0m\u001b[1;33m\u001b[0m\u001b[0m\n\u001b[1;32m   1820\u001b[0m         \u001b[1;32mif\u001b[0m \u001b[0mpre_doc\u001b[0m \u001b[1;32mis\u001b[0m \u001b[1;32mNone\u001b[0m\u001b[1;33m:\u001b[0m\u001b[1;33m\u001b[0m\u001b[0m\n",
      "\u001b[0;32mC:\\Users\\kamal\\Anaconda3\\lib\\site-packages\\matplotlib\\axes\\_axes.py\u001b[0m in \u001b[0;36mbar\u001b[0;34m(self, left, height, width, bottom, **kwargs)\u001b[0m\n\u001b[1;32m   2064\u001b[0m         \u001b[1;32melif\u001b[0m \u001b[0malign\u001b[0m \u001b[1;33m==\u001b[0m \u001b[1;34m'center'\u001b[0m\u001b[1;33m:\u001b[0m\u001b[1;33m\u001b[0m\u001b[0m\n\u001b[1;32m   2065\u001b[0m             \u001b[1;32mif\u001b[0m \u001b[0morientation\u001b[0m \u001b[1;33m==\u001b[0m \u001b[1;34m'vertical'\u001b[0m\u001b[1;33m:\u001b[0m\u001b[1;33m\u001b[0m\u001b[0m\n\u001b[0;32m-> 2066\u001b[0;31m                 \u001b[0mleft\u001b[0m \u001b[1;33m=\u001b[0m \u001b[1;33m[\u001b[0m\u001b[0mleft\u001b[0m\u001b[1;33m[\u001b[0m\u001b[0mi\u001b[0m\u001b[1;33m]\u001b[0m \u001b[1;33m-\u001b[0m \u001b[0mwidth\u001b[0m\u001b[1;33m[\u001b[0m\u001b[0mi\u001b[0m\u001b[1;33m]\u001b[0m \u001b[1;33m/\u001b[0m \u001b[1;36m2.\u001b[0m \u001b[1;32mfor\u001b[0m \u001b[0mi\u001b[0m \u001b[1;32min\u001b[0m \u001b[0mxrange\u001b[0m\u001b[1;33m(\u001b[0m\u001b[0mlen\u001b[0m\u001b[1;33m(\u001b[0m\u001b[0mleft\u001b[0m\u001b[1;33m)\u001b[0m\u001b[1;33m)\u001b[0m\u001b[1;33m]\u001b[0m\u001b[1;33m\u001b[0m\u001b[0m\n\u001b[0m\u001b[1;32m   2067\u001b[0m             \u001b[1;32melif\u001b[0m \u001b[0morientation\u001b[0m \u001b[1;33m==\u001b[0m \u001b[1;34m'horizontal'\u001b[0m\u001b[1;33m:\u001b[0m\u001b[1;33m\u001b[0m\u001b[0m\n\u001b[1;32m   2068\u001b[0m                 bottom = [bottom[i] - height[i] / 2.\n",
      "\u001b[0;32mC:\\Users\\kamal\\Anaconda3\\lib\\site-packages\\matplotlib\\axes\\_axes.py\u001b[0m in \u001b[0;36m<listcomp>\u001b[0;34m(.0)\u001b[0m\n\u001b[1;32m   2064\u001b[0m         \u001b[1;32melif\u001b[0m \u001b[0malign\u001b[0m \u001b[1;33m==\u001b[0m \u001b[1;34m'center'\u001b[0m\u001b[1;33m:\u001b[0m\u001b[1;33m\u001b[0m\u001b[0m\n\u001b[1;32m   2065\u001b[0m             \u001b[1;32mif\u001b[0m \u001b[0morientation\u001b[0m \u001b[1;33m==\u001b[0m \u001b[1;34m'vertical'\u001b[0m\u001b[1;33m:\u001b[0m\u001b[1;33m\u001b[0m\u001b[0m\n\u001b[0;32m-> 2066\u001b[0;31m                 \u001b[0mleft\u001b[0m \u001b[1;33m=\u001b[0m \u001b[1;33m[\u001b[0m\u001b[0mleft\u001b[0m\u001b[1;33m[\u001b[0m\u001b[0mi\u001b[0m\u001b[1;33m]\u001b[0m \u001b[1;33m-\u001b[0m \u001b[0mwidth\u001b[0m\u001b[1;33m[\u001b[0m\u001b[0mi\u001b[0m\u001b[1;33m]\u001b[0m \u001b[1;33m/\u001b[0m \u001b[1;36m2.\u001b[0m \u001b[1;32mfor\u001b[0m \u001b[0mi\u001b[0m \u001b[1;32min\u001b[0m \u001b[0mxrange\u001b[0m\u001b[1;33m(\u001b[0m\u001b[0mlen\u001b[0m\u001b[1;33m(\u001b[0m\u001b[0mleft\u001b[0m\u001b[1;33m)\u001b[0m\u001b[1;33m)\u001b[0m\u001b[1;33m]\u001b[0m\u001b[1;33m\u001b[0m\u001b[0m\n\u001b[0m\u001b[1;32m   2067\u001b[0m             \u001b[1;32melif\u001b[0m \u001b[0morientation\u001b[0m \u001b[1;33m==\u001b[0m \u001b[1;34m'horizontal'\u001b[0m\u001b[1;33m:\u001b[0m\u001b[1;33m\u001b[0m\u001b[0m\n\u001b[1;32m   2068\u001b[0m                 bottom = [bottom[i] - height[i] / 2.\n",
      "\u001b[0;31mTypeError\u001b[0m: unsupported operand type(s) for -: 'str' and 'float'"
     ]
    }
   ],
   "source": [
    "import matplotlib.pyplot as plt\n",
    "l=[('stagecoachmama@hotmail.com', 40), ('ina.rangel@enron.com', 35), ('jsmith@austintx.com', 34), ('pallen70@hotmail.com', 28), ('mike.grigsby@enron.com', 27), ('keith.holst@enron.com', 24), ('cbpres@austin.rr.com', 22), ('maryrichards7@hotmail.com', 16), ('john.lavorato@enron.com', 15), ('jacquestc@aol.com', 14)]\n",
    "\n",
    "mails=[]\n",
    "number_mails=[]\n",
    "width=0.35\n",
    "for k,v in l:\n",
    "    mails.append(k)\n",
    "    number_mails.append(v)\n",
    "number_mails = y\n",
    "mails = range(len(x))\n",
    "\n",
    "LABELS = x\n",
    "\n",
    "\n",
    "plt.bar(mails, number_mails, align='center')\n",
    "plt.xticks(mails, LABELS)\n",
    "\n",
    "plt.show()"
   ]
  },
  {
   "cell_type": "code",
   "execution_count": null,
   "metadata": {
    "collapsed": true
   },
   "outputs": [],
   "source": []
  }
 ],
 "metadata": {
  "anaconda-cloud": {},
  "kernelspec": {
   "display_name": "Python [conda root]",
   "language": "python",
   "name": "conda-root-py"
  },
  "language_info": {
   "codemirror_mode": {
    "name": "ipython",
    "version": 3
   },
   "file_extension": ".py",
   "mimetype": "text/x-python",
   "name": "python",
   "nbconvert_exporter": "python",
   "pygments_lexer": "ipython3",
   "version": "3.5.2"
  }
 },
 "nbformat": 4,
 "nbformat_minor": 1
}
