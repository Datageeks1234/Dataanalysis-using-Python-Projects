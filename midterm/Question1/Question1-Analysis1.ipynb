{
 "cells": [
  {
   "cell_type": "code",
   "execution_count": 1,
   "metadata": {
    "collapsed": false
   },
   "outputs": [
    {
     "name": "stdout",
     "output_type": "stream",
     "text": [
      "end of segment\n"
     ]
    }
   ],
   "source": [
    "import os, sys\n",
    "from collections import Counter\n",
    "from email.parser import Parser\n",
    "import nltk\n",
    "from nltk.tokenize import word_tokenize\n",
    "from nltk.corpus import stopwords\n",
    "\n",
    "# The path has been restricted to 1 folder since time of execution for all is large\n",
    "emailDataDir = \"C:/Users/kamal/Desktop/Git/Assignments/midterm/maildir/allen-p/all_documents\"\n",
    "dumpEmailFile=\"emailData.txt\"\n",
    "\n",
    "def email_filter(emails):\n",
    "    if emails:\n",
    "        emails = emails.replace(\"\\n\", \"\").replace(\"\\t\", \"\").replace(\" \", \"\").split(\",\")\n",
    "        return emails\n",
    "    else:\n",
    "        return None\n",
    "\n",
    "\n",
    "def email_tokenizer(email_file):\n",
    "    with open(email_file, \"r\") as text_file:\n",
    "        email = Parser().parsestr(text_file.read())\n",
    "        if email_filter(email['to']) :\n",
    "            file_to=email_filter(email['to'])[0]\n",
    "        else:\n",
    "            file_to=None\n",
    "        file_from = email['from']\n",
    "        file_subject = email['subject']\n",
    "        file_body=email.get_payload()\n",
    "    dict={'to': file_to, 'from': file_from, 'subject': file_subject , 'body' : file_body}\n",
    "    return dict\n",
    "\n",
    "\n",
    "#def blob_writer(file_pointer, blob_object):\n",
    "     #if blob_object:\n",
    "         #file_pointer.write(blob_object)\n",
    "         #file_pointer.write(\"\\n\")\n",
    "        #file_pointer.close()\n",
    "\n",
    "\n",
    "def write_to_file(temp , dumpEmailFile):\n",
    "    with open(dumpEmailFile, \"a\") as dump_file:\n",
    "        if temp['to']:\n",
    "            dump_file.write(temp['to'])\n",
    "        dump_file.write(\"\\n\")\n",
    "        if temp['from']:\n",
    "            dump_file.write(temp['from'])\n",
    "        dump_file.write(\"\\n\")\n",
    "        if temp['subject']:\n",
    "            dump_file.write(temp['subject'])\n",
    "        dump_file.write(\"\\n\")\n",
    "        if temp['body']:\n",
    "            dump_file.write(temp['body'])\n",
    "        dump_file.write(\"\\n\")\n",
    "        dump_file.close()\n",
    "        # blob_writer(dump_file, temp['from'])\n",
    "        # blob_writer(dump_file, temp['subject'])\n",
    "        # blob_writer(dump_file, temp['body'])\n",
    "\n",
    "print(\"end of segment\")"
   ]
  },
  {
   "cell_type": "code",
   "execution_count": 2,
   "metadata": {
    "collapsed": false
   },
   "outputs": [
    {
     "name": "stdout",
     "output_type": "stream",
     "text": [
      "####################Analysis one####################\n",
      "+++++++Frequent Email exchanger: Idea is to find the key player in fraud\n",
      "\n",
      "To email adresses: \n",
      "\n",
      "[('stagecoachmama@hotmail.com', 40), ('ina.rangel@enron.com', 35), ('jsmith@austintx.com', 34), ('pallen70@hotmail.com', 28), ('mike.grigsby@enron.com', 27), ('keith.holst@enron.com', 24), ('cbpres@austin.rr.com', 22), ('maryrichards7@hotmail.com', 16), ('john.lavorato@enron.com', 15), ('jacquestc@aol.com', 14)]\n",
      "\n",
      "From email adresses: \n",
      "\n",
      "[('phillip.allen@enron.com', 566), ('critical.notice@enron.com', 6), ('ina.rangel@enron.com', 4), ('aod@newsdata.com', 3), ('sarah.novosel@enron.com', 3), ('ei_editor@ftenergy.com', 2), ('webmaster@earnings.com', 2), ('announce@inbox.nytimes.com', 2), ('messenger@ecm.bloomberg.com', 2), ('rebecca.cantrell@enron.com', 2)]\n"
     ]
    }
   ],
   "source": [
    "import json\n",
    "to_list = []\n",
    "from_list = []\n",
    "subject_list = []\n",
    "email_body = []\n",
    "\n",
    "for directory, subdirectory, fileNames in os.walk(emailDataDir):\n",
    "    for filename in fileNames:\n",
    "        temp=email_tokenizer(os.path.join(directory, filename))\n",
    "#         print(temp)\n",
    "        # break\n",
    "        write_to_file(temp, dumpEmailFile)\n",
    "        to_list.append(temp['to'])\n",
    "        from_list.append(temp['from'])\n",
    "        subject_list.append(temp['subject'])\n",
    "        email_body.append(temp['body'])\n",
    "\n",
    "\n",
    "print(\"####################Analysis one####################\")\n",
    "print(\"+++++++Frequent Email exchanger: Idea is to find the key player in fraud\")\n",
    "print(\"\\nTo email adresses: \\n\")\n",
    "print(Counter(to_list).most_common(10))\n",
    "print(\"\\nFrom email adresses: \\n\")\n",
    "print(Counter(from_list).most_common(10))"
   ]
  },
  {
   "cell_type": "code",
   "execution_count": 3,
   "metadata": {
    "collapsed": false
   },
   "outputs": [
    {
     "name": "stdout",
     "output_type": "stream",
     "text": [
      "####################Analysis two####################\n",
      "+++++++Most common keyword used in  email exchanger: Idea is to look through the pattern\n",
      "[('--', 12608), (',', 9930), ('@', 8286), ('.', 7440), (':', 4042), ('ECT', 2320), ('enron.com', 2296), ('I', 1994), ('?', 1576), ('Phillip', 1468), ('>', 1244), (')', 1206), ('$', 1178), ('phillip.allen', 1150), ('(', 1134), ('=09', 1090), ('-', 1078), (\"''\", 880), ('<', 766), ('ENRON', 764), ('The', 744), ('K', 740), (\"'s\", 688), ('Allen/HOU/ECT', 686), ('Enron', 670), ('PM', 622), ('To', 620), ('``', 584), ('would', 578), ('Subject', 544), ('cc', 514), ('Re', 502), ('Forwarded', 492), ('AM', 466), ('&', 440), ('EES', 432), ('%', 372), ('Please', 366), ('[', 358), (']', 358), ('EnronXGate', 344), ('http', 340), ('need', 334), ('IMAGE', 324), ('gas', 324), (\"n't\", 294), ('If', 288), ('#', 270), ('We', 266), ('Gas', 258), ('power', 256), ('project', 250), ('get', 250), ('This', 250), (\"'\", 246), ('A', 246), ('!', 244), ('time', 242), ('like', 236), ('know', 234), ('market', 232), ('Allen', 230), ('From', 228), ('new', 224), ('hotmail.com', 214), ('prices', 210), ('loan', 206), ('said', 206), ('email', 198), ('cost', 198), ('Jeff', 198), ('=20', 196), ('price', 192), ('As', 190), ('It', 190), ('E-mail', 190), ('call', 182), ('one', 180), ('John', 180), ('today', 180), ('1', 178), ('week', 178), ('J', 176), ('What', 176), ('work', 176), ('2', 172), ('information', 170), ('2000', 170), ('George', 168), ('want', 162), ('costs', 162), ('You', 162), ('meeting', 162), ('austin.rr.com', 160), ('Mike', 156), ('Here', 152), ('questions', 152), ('list', 152), ('construction', 150), ('please', 148)]\n"
     ]
    }
   ],
   "source": [
    "print(\"####################Analysis two####################\")\n",
    "print(\"+++++++Most common keyword used in  email exchanger: Idea is to look through the pattern\")\n",
    "with open(dumpEmailFile, \"r\") as f:\n",
    "    data = f.read()\n",
    "\n",
    "\n",
    "words= word_tokenize(data)\n",
    "\n",
    "useful_words = [word  for word in words if word not in stopwords.words('English')]\n",
    "\n",
    "frequency = nltk.FreqDist(useful_words)\n",
    "\n",
    "print(frequency.most_common(100))"
   ]
  }
 ],
 "metadata": {
  "anaconda-cloud": {},
  "kernelspec": {
   "display_name": "Python [default]",
   "language": "python",
   "name": "python3"
  },
  "language_info": {
   "codemirror_mode": {
    "name": "ipython",
    "version": 3
   },
   "file_extension": ".py",
   "mimetype": "text/x-python",
   "name": "python",
   "nbconvert_exporter": "python",
   "pygments_lexer": "ipython3",
   "version": "3.5.2"
  }
 },
 "nbformat": 4,
 "nbformat_minor": 0
}
