{
 "cells": [
  {
   "cell_type": "code",
   "execution_count": 1,
   "metadata": {
    "collapsed": true
   },
   "outputs": [],
   "source": [
    "import re,os,string\n",
    "import matplotlib.pyplot as plt\n",
    "import nltk\n",
    "from nltk.probability import FreqDist\n",
    "from nltk.corpus import stopwords\n",
    "from nltk.stem.porter import *\n",
    "from nltk.stem.lancaster import LancasterStemmer\n",
    "from collections import Counter"
   ]
  },
  {
   "cell_type": "code",
   "execution_count": 6,
   "metadata": {
    "collapsed": false
   },
   "outputs": [],
   "source": [
    "# To extract five data: email from, email to, subject, email text, sent date\n",
    "def read_email(path):\n",
    "    fromlist = []\n",
    "    tolist = []\n",
    "    subjectlist = []\n",
    "    datelist = []\n",
    "    textlist = []\n",
    "    #  To extract data\n",
    "    for file in os.listdir(path):\n",
    "        with open(os.path.join(path, file), 'r',encoding='utf-8') as content_file:\n",
    "            content = content_file.read()\n",
    "            \n",
    "            fromlist.append(re.findall('[\\n\\r].*From: \\s*([^\\n\\r]*)', content)[0])    # Appending all from details to From_list\n",
    "            # To\n",
    "            tolist.append(re.findall('[\\n\\r].*To: \\s*([^\\n\\r]*)', content)[0])\n",
    "            # Subject\n",
    "            subject = re.findall('Subject: (?s)(.*)Mime-Version', content)[0]\n",
    "            subject = subject.replace('\\n', '')\n",
    "            subjectlist.append(subject)\n",
    "            # Date\n",
    "            datelist.append(re.findall('[\\n\\r].*Date: \\s*([^\\n\\r]*)', content)[0])\n",
    "            # Email text\n",
    "            text_original = re.findall(\"(?<=X-FileName:)[.|\\n|\\W|\\w]*\", content)[0]\n",
    "            text = text_original.replace('\\n', '')\n",
    "            text = text.replace('pallen (Non-Privileged).pst', '')\n",
    "            text = text.replace('pallen.nsf', '')\n",
    "            textlist.append(text)\n",
    "            tmp = {''}\n",
    "    # Using 5 lists to build Pandas DataFrame\n",
    "    email_data = {}\n",
    "    email_data['From'] = fromlist\n",
    "    email_data['To'] = tolist\n",
    "    email_data['Subject'] = subjectlist\n",
    "    email_data['Date'] = datelist\n",
    "    email_data['Text'] = textlist\n",
    "    return email_data\n",
    "\n",
    "# Read email from folders to dataframes\n",
    "df_allenp = read_email('C/Users/kamal/git/Assignmnets/midterm/data/enron/enron_mail_20150507/maildir/allen-p/_sent_mail')\n"
   ]
  },
  {
   "cell_type": "code",
   "execution_count": 11,
   "metadata": {
    "collapsed": false
   },
   "outputs": [
    {
     "name": "stdout",
     "output_type": "stream",
     "text": [
      "<class 'dict'>\n",
      "From :phillip.allen@enron.com\n",
      "To :tim.belden@enron.com\n",
      "Subject :\n",
      "Date :Mon, 14 May 2001 16:39:00 -0700 (PDT)\n",
      "Text : Here is our forecast \n",
      "-------------------------------\n",
      "From :phillip.allen@enron.com\n",
      "To :john.lavorato@enron.com\n",
      "Subject :Re:\n",
      "Date :Fri, 4 May 2001 13:51:00 -0700 (PDT)\n",
      "Text : Traveling to have a business meeting takes the fun out of the trip.  Especially if you have to prepare a presentation.  I would suggest holding the business plan meetings here then take a trip without any formal business meetings.  I would even try and get some honest opinions on whether a trip is even desired or necessary.As far as the business meetings, I think it would be more productive to try and stimulate discussions across the different groups about what is working and what is not.  Too often the presenter speaks and the others are quiet just waiting for their turn.   The meetings might be better if held in a round table discussion format.  My suggestion for where to go is Austin.  Play golf and rent a ski boat and jet ski's.  Flying somewhere takes too much time.\n",
      "-------------------------------\n",
      "From :phillip.allen@enron.com\n",
      "To :leah.arsdall@enron.com\n",
      "Subject :Re: test\n",
      "Date :Wed, 18 Oct 2000 03:00:00 -0700 (PDT)\n",
      "Text : test successful.  way to go!!!\n",
      "-------------------------------\n",
      "From :phillip.allen@enron.com\n",
      "To :randall.gay@enron.com\n",
      "Subject :\n",
      "Date :Mon, 23 Oct 2000 06:13:00 -0700 (PDT)\n",
      "Text : Randy, Can you send me a schedule of the salary and level of everyone in the scheduling group.  Plus your thoughts on any changes that need to be made.  (Patti S for example)Phillip\n",
      "-------------------------------\n",
      "From :phillip.allen@enron.com\n",
      "To :greg.piper@enron.com\n",
      "Subject :Re: Hello\n",
      "Date :Thu, 31 Aug 2000 05:07:00 -0700 (PDT)\n",
      "Text : Let's shoot for Tuesday at 11:45.  \n",
      "-------------------------------\n"
     ]
    }
   ],
   "source": [
    "print (type(df_allenp))\n",
    "fromlis = df_allenp['From']\n",
    "tolis = df_allenp['To']\n",
    "subjectlis = df_allenp['Subject']\n",
    "datelis = df_allenp['Date']\n",
    "textlis = df_allenp['Text']\n",
    "for i in range(len(fromlis[:5])):     # First Example\n",
    "    print  ('From :'+ fromlis[i])\n",
    "    print   ('To :' +tolis[i])\n",
    "    print   ('Subject :' +subjectlis[i])\n",
    "    print   ('Date :' +datelis[i])\n",
    "    print ('Text :' +textlis[i])\n",
    "    print('-------------------------------')"
   ]
  },
  {
   "cell_type": "code",
   "execution_count": 36,
   "metadata": {
    "collapsed": false
   },
   "outputs": [],
   "source": [
    "a = []\n"
   ]
  },
  {
   "cell_type": "code",
   "execution_count": 37,
   "metadata": {
    "collapsed": false
   },
   "outputs": [],
   "source": [
    "for each in to_lis:\n",
    "    x = each.split('@')\n",
    "    names.append(x[0])\n",
    "    x= x[1].split('.')[0]\n",
    "    a.append(x)\n"
   ]
  },
  {
   "cell_type": "code",
   "execution_count": 38,
   "metadata": {
    "collapsed": false
   },
   "outputs": [],
   "source": [
    "from collections import Counter\n",
    "import operator\n",
    "ct = dict(Counter(a))\n",
    "sorted_list= sorted(ct.items(), key=operator.itemgetter(1), reverse = True)"
   ]
  },
  {
   "cell_type": "code",
   "execution_count": 43,
   "metadata": {
    "collapsed": false
   },
   "outputs": [
    {
     "data": {
      "text/plain": [
       "[('enron', 343),\n",
       " ('hotmail', 87),\n",
       " ('austintx', 38),\n",
       " ('austin', 32),\n",
       " ('aol', 14),\n",
       " ('yahoo', 12),\n",
       " ('natsource', 7),\n",
       " ('intelligencepress', 7),\n",
       " ('keyad', 7),\n",
       " ('rssmb', 6),\n",
       " ('caprock', 4),\n",
       " ('creativepanel', 4),\n",
       " ('webtv', 3),\n",
       " ('thedoghousemail', 3),\n",
       " ('thermon', 2),\n",
       " ('spbank', 2),\n",
       " ('juno', 2),\n",
       " ('sempratrading', 2),\n",
       " ('pdq', 2),\n",
       " ('ev1', 2)]"
      ]
     },
     "execution_count": 43,
     "metadata": {},
     "output_type": "execute_result"
    }
   ],
   "source": [
    "sorted_list[0:20]"
   ]
  },
  {
   "cell_type": "code",
   "execution_count": 40,
   "metadata": {
    "collapsed": true
   },
   "outputs": [],
   "source": [
    "names = []\n",
    "for each in to_lis:\n",
    "    x = each.split('@')\n",
    "    names.append(x[0])\n",
    "    x= x[1].split('.')[0]\n",
    "    a.append(x)"
   ]
  },
  {
   "cell_type": "code",
   "execution_count": 41,
   "metadata": {
    "collapsed": true
   },
   "outputs": [],
   "source": [
    "from collections import Counter\n",
    "import operator\n",
    "ctnames = dict(Counter(names))\n",
    "sortednames= sorted(ctnames.items(), key=operator.itemgetter(1), reverse = True)"
   ]
  },
  {
   "cell_type": "code",
   "execution_count": 42,
   "metadata": {
    "collapsed": false
   },
   "outputs": [
    {
     "data": {
      "text/plain": [
       "[('stagecoachmama', 40),\n",
       " ('ina.rangel', 38),\n",
       " ('jsmith', 38),\n",
       " ('mike.grigsby', 30),\n",
       " ('pallen70', 28),\n",
       " ('keith.holst', 28),\n",
       " ('cbpres', 22),\n",
       " ('john.lavorato', 16),\n",
       " ('maryrichards7', 15),\n",
       " ('jacquestc', 14),\n",
       " ('matthew.lenhart', 12),\n",
       " ('llewter', 11),\n",
       " ('jeff.richter', 9),\n",
       " ('rlehmann', 8),\n",
       " ('stouchstone', 7),\n",
       " ('mac.d.hargrove', 6),\n",
       " ('gthorse', 6),\n",
       " ('andrea.richards', 6),\n",
       " ('tim.belden', 6),\n",
       " ('frank.ermis', 5)]"
      ]
     },
     "execution_count": 42,
     "metadata": {},
     "output_type": "execute_result"
    }
   ],
   "source": [
    "sortednames[0:20]"
   ]
  },
  {
   "cell_type": "code",
   "execution_count": 13,
   "metadata": {
    "collapsed": false
   },
   "outputs": [
    {
     "data": {
      "text/plain": [
       "['tim.belden@enron.com',\n",
       " 'john.lavorato@enron.com',\n",
       " 'leah.arsdall@enron.com',\n",
       " 'randall.gay@enron.com',\n",
       " 'greg.piper@enron.com',\n",
       " 'greg.piper@enron.com',\n",
       " 'david.l.johnson@enron.com, john.shafer@enron.com',\n",
       " 'joyce.teixeira@enron.com',\n",
       " 'mark.scott@enron.com',\n",
       " 'zimam@enron.com',\n",
       " 'buck.buckner@honeywell.com',\n",
       " 'stagecoachmama@hotmail.com',\n",
       " 'keith.holst@enron.com',\n",
       " 'keith.holst@enron.com',\n",
       " 'david.delainey@enron.com']"
      ]
     },
     "execution_count": 13,
     "metadata": {},
     "output_type": "execute_result"
    }
   ],
   "source": [
    "tolis[:15]"
   ]
  }
 ],
 "metadata": {
  "anaconda-cloud": {},
  "kernelspec": {
   "display_name": "Python [conda root]",
   "language": "python",
   "name": "conda-root-py"
  },
  "language_info": {
   "codemirror_mode": {
    "name": "ipython",
    "version": 3
   },
   "file_extension": ".py",
   "mimetype": "text/x-python",
   "name": "python",
   "nbconvert_exporter": "python",
   "pygments_lexer": "ipython3",
   "version": "3.5.2"
  }
 },
 "nbformat": 4,
 "nbformat_minor": 1
}
