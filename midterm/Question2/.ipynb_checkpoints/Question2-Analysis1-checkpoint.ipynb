{
 "cells": [
  {
   "cell_type": "code",
   "execution_count": 2,
   "metadata": {
    "collapsed": false
   },
   "outputs": [
    {
     "ename": "Exception",
     "evalue": "Key not found in the list of environment variables",
     "output_type": "error",
     "traceback": [
      "\u001b[0;31m---------------------------------------------------------------------------\u001b[0m",
      "\u001b[0;31mException\u001b[0m                                 Traceback (most recent call last)",
      "\u001b[0;32m<ipython-input-2-1ac587380437>\u001b[0m in \u001b[0;36m<module>\u001b[0;34m()\u001b[0m\n\u001b[1;32m     10\u001b[0m \u001b[1;33m\u001b[0m\u001b[0m\n\u001b[1;32m     11\u001b[0m \u001b[1;32mif\u001b[0m \u001b[1;32mnot\u001b[0m \u001b[0mnyt_archive_key\u001b[0m\u001b[1;33m:\u001b[0m\u001b[1;33m\u001b[0m\u001b[0m\n\u001b[0;32m---> 12\u001b[0;31m         \u001b[1;32mraise\u001b[0m \u001b[0mException\u001b[0m\u001b[1;33m(\u001b[0m\u001b[1;34m'Key not found in the list of environment variables'\u001b[0m\u001b[1;33m)\u001b[0m\u001b[1;33m\u001b[0m\u001b[0m\n\u001b[0m\u001b[1;32m     13\u001b[0m \u001b[0mprint\u001b[0m \u001b[1;33m(\u001b[0m\u001b[0mnyt_archive_key\u001b[0m\u001b[1;33m)\u001b[0m\u001b[1;33m\u001b[0m\u001b[0m\n\u001b[1;32m     14\u001b[0m \u001b[1;32mdef\u001b[0m \u001b[0mblob_writer\u001b[0m\u001b[1;33m(\u001b[0m\u001b[0mfile_pointer\u001b[0m\u001b[1;33m,\u001b[0m \u001b[0mblob_object\u001b[0m\u001b[1;33m)\u001b[0m\u001b[1;33m:\u001b[0m\u001b[1;33m\u001b[0m\u001b[0m\n",
      "\u001b[0;31mException\u001b[0m: Key not found in the list of environment variables"
     ]
    }
   ],
   "source": [
    "from urllib.request import urlopen\n",
    "from json import loads\n",
    "import os\n",
    "import sys\n",
    "\n",
    "dumpEmailFile=\"nyt.txt\"\n",
    "\n",
    "# nyt_archive_key = os.getenv('nyt_archive_key')\n",
    "nyt_archive_key = os.getenv(\"5a8504671cd24953bebb1b6abd017763\")\n",
    "\n",
    "if not nyt_archive_key:\n",
    "        raise Exception('Key not found in the list of environment variables')\n",
    "print (nyt_archive_key)\n",
    "def blob_writer(file_pointer, blob_object):\n",
    "    for oneUnit in blob_object:\n",
    "        if oneUnit:\n",
    "            file_pointer.write(oneUnit)\n",
    "            file_pointer.write(\"\\n\")\n",
    "\n",
    "def write_to_file(to_list, from_list, subject_list , email_body, dumpEmailFile):\n",
    "    with open(dumpEmailFile, \"w\") as dump_file:\n",
    "        blob_writer(dump_file, to_list)\n",
    "        blob_writer(dump_file, from_list)\n",
    "        blob_writer(dump_file, subject_list)\n",
    "\n",
    "# def call_the_articles():\n",
    "#     url = 'https://api.nytimes.com/svc/archive/v1/2016/1.json'\n",
    "#     url += '?' + 'api-key:'+ nyt_archive_key\n",
    "#     return loads(urlopen(url).read())\n",
    "\n",
    "url = 'https://api.nytimes.com/svc/archive/v1/2016/1.json'\n",
    "url += '?' + 'api-key:'+ nyt_archive_key\n",
    "articles = loads(urlopen(url).read())\n",
    "\n",
    "\n",
    "# articles = call_the_articles()\n",
    "\n",
    "if __name__ == '__main__':\n",
    "\n",
    "\n",
    "    for story in articles(\"results\"):\n",
    "        write_to_file(story['title'].encode('ascii', 'replace'), dumpEmailFile)"
   ]
  },
  {
   "cell_type": "code",
   "execution_count": 5,
   "metadata": {
    "collapsed": false
   },
   "outputs": [
    {
     "ename": "NameError",
     "evalue": "name 'requests' is not defined",
     "output_type": "error",
     "traceback": [
      "\u001b[0;31m---------------------------------------------------------------------------\u001b[0m",
      "\u001b[0;31mNameError\u001b[0m                                 Traceback (most recent call last)",
      "\u001b[0;32m<ipython-input-5-9b5d0243b1a4>\u001b[0m in \u001b[0;36m<module>\u001b[0;34m()\u001b[0m\n\u001b[1;32m     16\u001b[0m \u001b[1;33m\u001b[0m\u001b[0m\n\u001b[1;32m     17\u001b[0m \u001b[0murl\u001b[0m \u001b[1;33m=\u001b[0m \u001b[1;34m\"https://api.nytimes.com/svc/archive/v1/\"\u001b[0m\u001b[1;33m+\u001b[0m\u001b[0mstr\u001b[0m\u001b[1;33m(\u001b[0m\u001b[0myear\u001b[0m\u001b[1;33m)\u001b[0m\u001b[1;33m+\u001b[0m\u001b[1;34m\"/\"\u001b[0m\u001b[1;33m+\u001b[0m\u001b[0mstr\u001b[0m\u001b[1;33m(\u001b[0m\u001b[0mmonth\u001b[0m\u001b[1;33m)\u001b[0m\u001b[1;33m+\u001b[0m\u001b[1;34m\".json?api-key=\"\u001b[0m\u001b[1;33m+\u001b[0m\u001b[0mapiKey\u001b[0m\u001b[1;33m\u001b[0m\u001b[0m\n\u001b[0;32m---> 18\u001b[0;31m \u001b[0mresponse\u001b[0m \u001b[1;33m=\u001b[0m \u001b[0mrequests\u001b[0m\u001b[1;33m.\u001b[0m\u001b[0mget\u001b[0m\u001b[1;33m(\u001b[0m\u001b[0murl\u001b[0m\u001b[1;33m)\u001b[0m\u001b[1;33m\u001b[0m\u001b[0m\n\u001b[0m\u001b[1;32m     19\u001b[0m \u001b[0mcontent\u001b[0m  \u001b[1;33m=\u001b[0m \u001b[0mresponse\u001b[0m\u001b[1;33m.\u001b[0m\u001b[0mjson\u001b[0m\u001b[1;33m(\u001b[0m\u001b[1;33m)\u001b[0m\u001b[1;33m\u001b[0m\u001b[0m\n\u001b[1;32m     20\u001b[0m \u001b[1;33m\u001b[0m\u001b[0m\n",
      "\u001b[0;31mNameError\u001b[0m: name 'requests' is not defined"
     ]
    }
   ],
   "source": [
    "from urllib.request import urlopen\n",
    "from json import loads\n",
    "import os\n",
    "import sys\n",
    "\n",
    "dumpEmailFile=\"nyt.txt\"\n",
    "\n",
    "apiKey = '5a8504671cd24953bebb1b6abd017763'\n",
    "#define the year and month based on your requirement\n",
    "year = 2016\n",
    "month = 12 #taking a sample dataset\n",
    "relativePath = os.getcwd()\n",
    "\n",
    "url = \"https://api.nytimes.com/svc/archive/v1/\"+str(year)+\"/\"+str(month)+\".json?api-key=\"+apiKey\n",
    "response = requests.get(url)\n",
    "content  = response.json()\n",
    "\n",
    "#create folder and create file usng Python\n",
    "#change the directory of storing the file\n",
    "\n",
    "with open(relativePath+\"\\\\\"+'midterm\\data\\jsonData_NY'+\"\\\\\"+str(month)+\"-\"+str(year)+'.json', 'w') as file:\n",
    "    json.dump(content, file)#loading the dataset"
   ]
  },
  {
   "cell_type": "code",
   "execution_count": null,
   "metadata": {
    "collapsed": true
   },
   "outputs": [],
   "source": []
  }
 ],
 "metadata": {
  "anaconda-cloud": {},
  "kernelspec": {
   "display_name": "Python [default]",
   "language": "python",
   "name": "python3"
  },
  "language_info": {
   "codemirror_mode": {
    "name": "ipython",
    "version": 3
   },
   "file_extension": ".py",
   "mimetype": "text/x-python",
   "name": "python",
   "nbconvert_exporter": "python",
   "pygments_lexer": "ipython3",
   "version": "3.5.2"
  }
 },
 "nbformat": 4,
 "nbformat_minor": 0
}
