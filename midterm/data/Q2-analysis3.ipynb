{
 "cells": [
  {
   "cell_type": "code",
   "execution_count": 1,
   "metadata": {
    "collapsed": false
   },
   "outputs": [
    {
     "ename": "ImportError",
     "evalue": "No module named 'urllib2'",
     "output_type": "error",
     "traceback": [
      "\u001b[1;31m---------------------------------------------------------------------------\u001b[0m",
      "\u001b[1;31mImportError\u001b[0m                               Traceback (most recent call last)",
      "\u001b[1;32m<ipython-input-1-66390af1283e>\u001b[0m in \u001b[0;36m<module>\u001b[1;34m()\u001b[0m\n\u001b[1;32m----> 1\u001b[1;33m \u001b[1;32mfrom\u001b[0m \u001b[0murllib2\u001b[0m \u001b[1;32mimport\u001b[0m \u001b[0murlopen\u001b[0m\u001b[1;33m\u001b[0m\u001b[0m\n\u001b[0m\u001b[0;32m      2\u001b[0m \u001b[1;32mfrom\u001b[0m \u001b[0mjson\u001b[0m \u001b[1;32mimport\u001b[0m \u001b[0mloads\u001b[0m\u001b[1;33m\u001b[0m\u001b[0m\n\u001b[0;32m      3\u001b[0m \u001b[1;32mimport\u001b[0m \u001b[0mos\u001b[0m\u001b[1;33m\u001b[0m\u001b[0m\n\u001b[0;32m      4\u001b[0m \u001b[1;33m\u001b[0m\u001b[0m\n\u001b[0;32m      5\u001b[0m \u001b[0mdumpEmailFile\u001b[0m\u001b[1;33m=\u001b[0m\u001b[1;34m\"nyt.txt\"\u001b[0m\u001b[1;33m\u001b[0m\u001b[0m\n",
      "\u001b[1;31mImportError\u001b[0m: No module named 'urllib2'"
     ]
    }
   ],
   "source": [
    "import requests\n",
    "from json import loads\n",
    "import os\n",
    "import requests\n",
    "from requests.auth import HTTPDigestAuth\n",
    "import json\n",
    "\n",
    "dumpEmailFile=\"nyt.txt\"\n",
    "year=2016\n",
    "\n",
    "#nyt_archive_key = os.get_env('nyt_archive_key')\n",
    "nyt_archive_key='4c3b320a0dcc4620b89ae0a54c806d24'\n",
    "\n",
    "\n",
    "def write_to_file(text, dumpEmailFile):\n",
    "    with open(dumpEmailFile, \"a\") as dump_file:\n",
    "        if text:\n",
    "            dump_file.write(text)\n",
    "        dump_file.write(\"\\n\")\n",
    "\n",
    "def call_the_articles(year, month):\n",
    "    url = 'https://api.nytimes.com/svc/archive/v1/' + year + '/' + month + '.json'\n",
    "    data = {'api-key' :  nyt_archive_key}\n",
    "    response = requests.get(url, data=data)\n",
    "\n",
    "\n",
    "    if (response.ok):\n",
    "        jData = json.loads(response.content)\n",
    "        print(\"The response contains {0} properties\".format(len(jData)))\n",
    "        print(\"\\n\")\n",
    "        for key in jData:\n",
    "            print\n",
    "            key + \" : \" + jData[key]\n",
    "    else:\n",
    "        response.raise_for_status()\n",
    "\n",
    "    return loads(jData)\n",
    "\n",
    "\n",
    "\n",
    "\n",
    "for month in range(1,12):\n",
    "    fileName=dumpEmailFile+str(year)+ str(month)\n",
    "    write_to_file(call_the_articles(str(year), str(month)) , fileName)"
   ]
  },
  {
   "cell_type": "code",
   "execution_count": null,
   "metadata": {
    "collapsed": true
   },
   "outputs": [],
   "source": []
  }
 ],
 "metadata": {
  "anaconda-cloud": {},
  "kernelspec": {
   "display_name": "Python [default]",
   "language": "python",
   "name": "python3"
  },
  "language_info": {
   "codemirror_mode": {
    "name": "ipython",
    "version": 3
   },
   "file_extension": ".py",
   "mimetype": "text/x-python",
   "name": "python",
   "nbconvert_exporter": "python",
   "pygments_lexer": "ipython3",
   "version": "3.5.2"
  }
 },
 "nbformat": 4,
 "nbformat_minor": 0
}
