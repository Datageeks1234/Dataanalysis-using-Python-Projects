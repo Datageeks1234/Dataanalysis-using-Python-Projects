{
 "cells": [
  {
   "cell_type": "code",
   "execution_count": null,
   "metadata": {
    "collapsed": true
   },
   "outputs": [],
   "source": [
    "import os, sys\n",
    "from collections import Counter\n",
    "from email.parser import Parser\n",
    "import nltk\n",
    "from nltk.tokenize import word_tokenize\n",
    "from nltk.corpus import stopwords\n",
    "\n",
    "emailDataDir = \"../dataset\"\n",
    "dumpEmailFile=\"emailData.txt\"\n",
    "\n",
    "\n",
    "\n",
    "def email_filter(emails):\n",
    "    temp=[]\n",
    "    if emails:\n",
    "        email_to = emails\n",
    "        email_to = email_to.replace(\"\\n\", \"\")\n",
    "        email_to = email_to.replace(\"\\t\", \"\")\n",
    "        email_to = email_to.replace(\" \", \"\")\n",
    "        email_to = email_to.split(\",\")\n",
    "        for clean_email in email_to:\n",
    "            temp.append(clean_email)\n",
    "    return  temp\n",
    "\n",
    "\n",
    "def email_tokenizer(email_file):\n",
    "    with open(email_file, \"r\") as text_file:\n",
    "        email = Parser().parsestr(text_file.read())\n",
    "        file_to = email_filter(email['to'])\n",
    "        file_from = email['from']\n",
    "        file_subject = email['subject']\n",
    "        file_body=email.get_payload()\n",
    "        print(file_to)\n",
    "\n",
    "    temp = [file_to, file_from, file_subject, file_body]\n",
    "    return temp\n",
    "\n",
    "def blob_writer(file_pointer, blob_object):\n",
    "    for oneUnit in blob_object:\n",
    "        if oneUnit:\n",
    "            file_pointer.write(oneUnit)\n",
    "            file_pointer.write(\"\\n\")\n",
    "\n",
    "\n",
    "def write_to_file(to_list, from_list, subject_list , email_body, dumpEmailFile):\n",
    "    with open(dumpEmailFile, \"w\") as dump_file:\n",
    "        blob_writer(dump_file, to_list)\n",
    "        blob_writer(dump_file, from_list)\n",
    "        blob_writer(dump_file, subject_list)\n",
    "\n",
    "\n",
    "to_list = []\n",
    "from_list = []\n",
    "subject_list = []\n",
    "email_body = []\n",
    "\n",
    "for directory, subdirectory, fileNames in os.walk(emailDataDir):\n",
    "    for filename in fileNames:\n",
    "        temp=email_tokenizer(os.path.join(directory, filename))\n",
    "        write_to_file(temp[0], temp[1], temp[2], temp[3], dumpEmailFile)\n",
    "        print()\n",
    "        to_list.append(temp['file_to'])\n",
    "        from_list.append(temp['file_from'])\n",
    "        subject_list.append(temp['file_subject'])\n",
    "        email_body.append(temp['file_body'])"
   ]
  },
  {
   "cell_type": "code",
   "execution_count": null,
   "metadata": {
    "collapsed": true
   },
   "outputs": [],
   "source": [
    "Analysis one"
   ]
  },
  {
   "cell_type": "code",
   "execution_count": null,
   "metadata": {
    "collapsed": true
   },
   "outputs": [],
   "source": [
    "print(\"+++++++Frequent Email exchanger: Idea is to find the key player in fraud\")\n",
    "print(\"\\nTo email adresses: \\n\")\n",
    "print(Counter(to_list).most_common(10))\n",
    "print(\"\\nFrom email adresses: \\n\")\n",
    "print(Counter(from_list).most_common(10))"
   ]
  },
  {
   "cell_type": "code",
   "execution_count": null,
   "metadata": {
    "collapsed": true
   },
   "outputs": [],
   "source": [
    "Analysis two"
   ]
  },
  {
   "cell_type": "code",
   "execution_count": null,
   "metadata": {
    "collapsed": true
   },
   "outputs": [],
   "source": [
    "print(\"+++++++Most common keyword used in  email exchanger: Idea is to look through the pattern\")\n",
    "with open(dumpEmailFile, \"r\") as f:\n",
    "    data = f.read()"
   ]
  },
  {
   "cell_type": "code",
   "execution_count": null,
   "metadata": {
    "collapsed": true
   },
   "outputs": [],
   "source": [
    "words= word_tokenize(data)\n",
    "\n",
    "useful_words = [word  for word in words if word not in stopwords.words('English')]\n",
    "\n",
    "frequency = nltk.FreqDist(useful_words)\n",
    "\n",
    "print(frequency.most_common(100))\n"
   ]
  },
  {
   "cell_type": "code",
   "execution_count": null,
   "metadata": {
    "collapsed": true
   },
   "outputs": [],
   "source": [
    "print(\"+++++++Spike in email exchange the time of bankcrupcy\")"
   ]
  }
 ],
 "metadata": {
  "kernelspec": {
   "display_name": "Python [conda root]",
   "language": "python",
   "name": "conda-root-py"
  },
  "language_info": {
   "codemirror_mode": {
    "name": "ipython",
    "version": 3
   },
   "file_extension": ".py",
   "mimetype": "text/x-python",
   "name": "python",
   "nbconvert_exporter": "python",
   "pygments_lexer": "ipython3",
   "version": "3.5.2"
  }
 },
 "nbformat": 4,
 "nbformat_minor": 1
}
