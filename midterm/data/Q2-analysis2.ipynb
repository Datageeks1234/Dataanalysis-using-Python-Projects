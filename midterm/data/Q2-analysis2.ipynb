{
 "cells": [
  {
   "cell_type": "code",
   "execution_count": null,
   "metadata": {
    "collapsed": true
   },
   "outputs": [],
   "source": [
    "from urllib2 import urlopen\n",
    "from json import loads\n",
    "import os\n",
    "\n",
    "dumpEmailFile=\"nyt.txt\"\n",
    "\n",
    "nyt_archive_key = os.get_env('nyt_archive_key')\n",
    "def blob_writer(file_pointer, blob_object):\n",
    "    for oneUnit in blob_object:\n",
    "        if oneUnit:\n",
    "            file_pointer.write(oneUnit)\n",
    "            file_pointer.write(\"\\n\")\n",
    "\n",
    "def write_to_file(to_list, from_list, subject_list , email_body, dumpEmailFile):\n",
    "    with open(dumpEmailFile, \"w\") as dump_file:\n",
    "        blob_writer(dump_file, to_list)\n",
    "        blob_writer(dump_file, from_list)\n",
    "        blob_writer(dump_file, subject_list)\n",
    "\n",
    "def call_the_articles():\n",
    "    url = 'https://api.nytimes.com/svc/archive/v1/2016/1.json'\n",
    "    url += '?' + 'api-key:'+ nyt_archive_key\n",
    "    return loads(urlopen(url).read())\n",
    "\n",
    "articles = call_the_articles()\n",
    "\n",
    "if __name__ == '__main__':\n",
    "\n",
    "\n",
    "    for story in articles(\"results\"):\n",
    "        write_to_file(story['title'].encode('ascii', 'replace'), dumpEmailFile)"
   ]
  }
 ],
 "metadata": {
  "anaconda-cloud": {},
  "kernelspec": {
   "display_name": "Python [default]",
   "language": "python",
   "name": "python3"
  },
  "language_info": {
   "codemirror_mode": {
    "name": "ipython",
    "version": 3
   },
   "file_extension": ".py",
   "mimetype": "text/x-python",
   "name": "python",
   "nbconvert_exporter": "python",
   "pygments_lexer": "ipython3",
   "version": "3.5.2"
  }
 },
 "nbformat": 4,
 "nbformat_minor": 0
}
