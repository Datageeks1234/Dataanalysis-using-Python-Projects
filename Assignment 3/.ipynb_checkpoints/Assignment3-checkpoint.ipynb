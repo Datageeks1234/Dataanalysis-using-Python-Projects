{
 "cells": [
  {
   "cell_type": "code",
   "execution_count": 1,
   "metadata": {
    "collapsed": false
   },
   "outputs": [],
   "source": [
    "import pandas as pd\n",
    "import os\n"
   ]
  },
  {
   "cell_type": "code",
   "execution_count": 2,
   "metadata": {
    "collapsed": false
   },
   "outputs": [],
   "source": [
    "data = pd.read_csv(os.path.join('data','vehicle_collisions.csv'), parse_dates = [1])"
   ]
  },
  {
   "cell_type": "code",
   "execution_count": 3,
   "metadata": {
    "collapsed": false
   },
   "outputs": [
    {
     "data": {
      "text/plain": [
       "Index([u'UNIQUE KEY', u'DATE', u'TIME', u'BOROUGH', u'ZIP CODE', u'LATITUDE',\n",
       "       u'LONGITUDE', u'LOCATION', u'ON STREET NAME', u'CROSS STREET NAME',\n",
       "       u'OFF STREET NAME', u'PERSONS INJURED', u'PERSONS KILLED',\n",
       "       u'PEDESTRIANS INJURED', u'PEDESTRIANS KILLED', u'CYCLISTS INJURED',\n",
       "       u'CYCLISTS KILLED', u'MOTORISTS INJURED', u'MOTORISTS KILLED',\n",
       "       u'VEHICLE 1 TYPE', u'VEHICLE 2 TYPE', u'VEHICLE 3 TYPE',\n",
       "       u'VEHICLE 4 TYPE', u'VEHICLE 5 TYPE', u'VEHICLE 1 FACTOR',\n",
       "       u'VEHICLE 2 FACTOR', u'VEHICLE 3 FACTOR', u'VEHICLE 4 FACTOR',\n",
       "       u'VEHICLE 5 FACTOR'],\n",
       "      dtype='object')"
      ]
     },
     "execution_count": 3,
     "metadata": {},
     "output_type": "execute_result"
    }
   ],
   "source": [
    "data.columns"
   ]
  },
  {
   "cell_type": "code",
   "execution_count": 6,
   "metadata": {
    "collapsed": false
   },
   "outputs": [],
   "source": [
    "data['DATE'] = [i.to_datetime() for i in data['DATE']]"
   ]
  },
  {
   "cell_type": "code",
   "execution_count": 9,
   "metadata": {
    "collapsed": false
   },
   "outputs": [],
   "source": [
    "data['year']=[i.year for i in data['DATE']]"
   ]
  },
  {
   "cell_type": "code",
   "execution_count": 10,
   "metadata": {
    "collapsed": true
   },
   "outputs": [],
   "source": [
    "data['year-month']=[\"{0}-{1}\".format(i.year,i.month) for i in data['DATE']]"
   ]
  },
  {
   "cell_type": "code",
   "execution_count": 12,
   "metadata": {
    "collapsed": true
   },
   "outputs": [],
   "source": [
    "data_2016 = data[data['year']==2016]"
   ]
  },
  {
   "cell_type": "code",
   "execution_count": 14,
   "metadata": {
    "collapsed": true
   },
   "outputs": [],
   "source": [
    "total_number_collissions_2016 = data_2016['UNIQUE KEY'].count()"
   ]
  },
  {
   "cell_type": "code",
   "execution_count": 20,
   "metadata": {
    "collapsed": false
   },
   "outputs": [
    {
     "data": {
      "text/plain": [
       "year-month\n",
       "2016-1     13954\n",
       "2016-10    12225\n",
       "2016-11    12004\n",
       "2016-12    11964\n",
       "2016-2     12173\n",
       "2016-3     13976\n",
       "2016-4     14042\n",
       "2016-5     14182\n",
       "2016-6     12496\n",
       "2016-7     12974\n",
       "2016-8     12235\n",
       "2016-9     12081\n",
       "Name: BOROUGH, dtype: int64"
      ]
     },
     "execution_count": 20,
     "metadata": {},
     "output_type": "execute_result"
    }
   ],
   "source": [
    "data_2016.groupby('year-month').count()['BOROUGH']"
   ]
  },
  {
   "cell_type": "code",
   "execution_count": 24,
   "metadata": {
    "collapsed": false
   },
   "outputs": [
    {
     "name": "stdout",
     "output_type": "stream",
     "text": [
      "\n"
     ]
    }
   ],
   "source": [
    "data_2016[data_2016['BOROUGH']=='MANHATTAN'].groupby(['year-month','BOROUGH',]).count()\n",
    "print \"\""
   ]
  },
  {
   "cell_type": "code",
   "execution_count": 28,
   "metadata": {
    "collapsed": false
   },
   "outputs": [
    {
     "name": "stderr",
     "output_type": "stream",
     "text": [
      "C:\\Users\\samba\\Anaconda2\\lib\\site-packages\\ipykernel\\__main__.py:4: UserWarning: Boolean Series key will be reindexed to match DataFrame index.\n"
     ]
    }
   ],
   "source": [
    "data_required = pd.DataFrame({'MONTH':['Jan','Feb','Mar','Apr','May','Jun','Jul','Aug','spe','Oct','Nov','Dec'],\n",
    "'MANHATTAN':range(12),'NYC':range(12),'PERCENTAGE':range(12)\n",
    "\t})\n",
    "data_required['MANHATTAN']=data_2016[data['BOROUGH']==\"MANHATTAN\"].groupby('year-month').count()['BOROUGH'].values\n",
    "data_required['NYC']=data_2016.groupby('year-month').count()['BOROUGH'].values\n",
    "data_required['PERCENTAGE'] = (data_required['MANHATTAN']/data_required['NYC'])*100"
   ]
  },
  {
   "cell_type": "code",
   "execution_count": 29,
   "metadata": {
    "collapsed": false
   },
   "outputs": [
    {
     "data": {
      "text/html": [
       "<div>\n",
       "<table border=\"1\" class=\"dataframe\">\n",
       "  <thead>\n",
       "    <tr style=\"text-align: right;\">\n",
       "      <th></th>\n",
       "      <th>MANHATTAN</th>\n",
       "      <th>MONTH</th>\n",
       "      <th>NYC</th>\n",
       "      <th>PERCENTAGE</th>\n",
       "    </tr>\n",
       "  </thead>\n",
       "  <tbody>\n",
       "    <tr>\n",
       "      <th>0</th>\n",
       "      <td>3178</td>\n",
       "      <td>Jan</td>\n",
       "      <td>13954</td>\n",
       "      <td>22.774832</td>\n",
       "    </tr>\n",
       "    <tr>\n",
       "      <th>1</th>\n",
       "      <td>2831</td>\n",
       "      <td>Feb</td>\n",
       "      <td>12225</td>\n",
       "      <td>23.157464</td>\n",
       "    </tr>\n",
       "    <tr>\n",
       "      <th>2</th>\n",
       "      <td>2838</td>\n",
       "      <td>Mar</td>\n",
       "      <td>12004</td>\n",
       "      <td>23.642119</td>\n",
       "    </tr>\n",
       "    <tr>\n",
       "      <th>3</th>\n",
       "      <td>2634</td>\n",
       "      <td>Apr</td>\n",
       "      <td>11964</td>\n",
       "      <td>22.016048</td>\n",
       "    </tr>\n",
       "    <tr>\n",
       "      <th>4</th>\n",
       "      <td>3195</td>\n",
       "      <td>May</td>\n",
       "      <td>12173</td>\n",
       "      <td>26.246611</td>\n",
       "    </tr>\n",
       "    <tr>\n",
       "      <th>5</th>\n",
       "      <td>3479</td>\n",
       "      <td>Jun</td>\n",
       "      <td>13976</td>\n",
       "      <td>24.892673</td>\n",
       "    </tr>\n",
       "    <tr>\n",
       "      <th>6</th>\n",
       "      <td>3540</td>\n",
       "      <td>Jul</td>\n",
       "      <td>14042</td>\n",
       "      <td>25.210084</td>\n",
       "    </tr>\n",
       "    <tr>\n",
       "      <th>7</th>\n",
       "      <td>3432</td>\n",
       "      <td>Aug</td>\n",
       "      <td>14182</td>\n",
       "      <td>24.199690</td>\n",
       "    </tr>\n",
       "    <tr>\n",
       "      <th>8</th>\n",
       "      <td>2956</td>\n",
       "      <td>spe</td>\n",
       "      <td>12496</td>\n",
       "      <td>23.655570</td>\n",
       "    </tr>\n",
       "    <tr>\n",
       "      <th>9</th>\n",
       "      <td>3055</td>\n",
       "      <td>Oct</td>\n",
       "      <td>12974</td>\n",
       "      <td>23.547094</td>\n",
       "    </tr>\n",
       "    <tr>\n",
       "      <th>10</th>\n",
       "      <td>2844</td>\n",
       "      <td>Nov</td>\n",
       "      <td>12235</td>\n",
       "      <td>23.244790</td>\n",
       "    </tr>\n",
       "    <tr>\n",
       "      <th>11</th>\n",
       "      <td>2744</td>\n",
       "      <td>Dec</td>\n",
       "      <td>12081</td>\n",
       "      <td>22.713352</td>\n",
       "    </tr>\n",
       "  </tbody>\n",
       "</table>\n",
       "</div>"
      ],
      "text/plain": [
       "    MANHATTAN MONTH    NYC  PERCENTAGE\n",
       "0        3178   Jan  13954   22.774832\n",
       "1        2831   Feb  12225   23.157464\n",
       "2        2838   Mar  12004   23.642119\n",
       "3        2634   Apr  11964   22.016048\n",
       "4        3195   May  12173   26.246611\n",
       "5        3479   Jun  13976   24.892673\n",
       "6        3540   Jul  14042   25.210084\n",
       "7        3432   Aug  14182   24.199690\n",
       "8        2956   spe  12496   23.655570\n",
       "9        3055   Oct  12974   23.547094\n",
       "10       2844   Nov  12235   23.244790\n",
       "11       2744   Dec  12081   22.713352"
      ]
     },
     "execution_count": 29,
     "metadata": {},
     "output_type": "execute_result"
    }
   ],
   "source": [
    "data_required"
   ]
  },
  {
   "cell_type": "code",
   "execution_count": 30,
   "metadata": {
    "collapsed": false
   },
   "outputs": [
    {
     "data": {
      "text/html": [
       "<div>\n",
       "<table border=\"1\" class=\"dataframe\">\n",
       "  <thead>\n",
       "    <tr style=\"text-align: right;\">\n",
       "      <th></th>\n",
       "      <th>UNIQUE KEY</th>\n",
       "      <th>DATE</th>\n",
       "      <th>TIME</th>\n",
       "      <th>BOROUGH</th>\n",
       "      <th>ZIP CODE</th>\n",
       "      <th>LATITUDE</th>\n",
       "      <th>LONGITUDE</th>\n",
       "      <th>LOCATION</th>\n",
       "      <th>ON STREET NAME</th>\n",
       "      <th>CROSS STREET NAME</th>\n",
       "      <th>...</th>\n",
       "      <th>VEHICLE 3 TYPE</th>\n",
       "      <th>VEHICLE 4 TYPE</th>\n",
       "      <th>VEHICLE 5 TYPE</th>\n",
       "      <th>VEHICLE 1 FACTOR</th>\n",
       "      <th>VEHICLE 2 FACTOR</th>\n",
       "      <th>VEHICLE 3 FACTOR</th>\n",
       "      <th>VEHICLE 4 FACTOR</th>\n",
       "      <th>VEHICLE 5 FACTOR</th>\n",
       "      <th>year</th>\n",
       "      <th>year-month</th>\n",
       "    </tr>\n",
       "  </thead>\n",
       "  <tbody>\n",
       "    <tr>\n",
       "      <th>0</th>\n",
       "      <td>3146911</td>\n",
       "      <td>2015-01-01</td>\n",
       "      <td>0:20</td>\n",
       "      <td>QUEENS</td>\n",
       "      <td>11358.0</td>\n",
       "      <td>40.751847</td>\n",
       "      <td>-73.787862</td>\n",
       "      <td>(40.7518471, -73.787862)</td>\n",
       "      <td>47 AVENUE</td>\n",
       "      <td>193 STREET</td>\n",
       "      <td>...</td>\n",
       "      <td>NaN</td>\n",
       "      <td>NaN</td>\n",
       "      <td>NaN</td>\n",
       "      <td>TRAFFIC CONTROL DISREGARDED</td>\n",
       "      <td>NaN</td>\n",
       "      <td>NaN</td>\n",
       "      <td>NaN</td>\n",
       "      <td>NaN</td>\n",
       "      <td>2015</td>\n",
       "      <td>2015-1</td>\n",
       "    </tr>\n",
       "  </tbody>\n",
       "</table>\n",
       "<p>1 rows × 31 columns</p>\n",
       "</div>"
      ],
      "text/plain": [
       "   UNIQUE KEY       DATE  TIME BOROUGH  ZIP CODE   LATITUDE  LONGITUDE  \\\n",
       "0     3146911 2015-01-01  0:20  QUEENS   11358.0  40.751847 -73.787862   \n",
       "\n",
       "                   LOCATION ON STREET NAME CROSS STREET NAME    ...      \\\n",
       "0  (40.7518471, -73.787862)      47 AVENUE        193 STREET    ...       \n",
       "\n",
       "  VEHICLE 3 TYPE  VEHICLE 4 TYPE  VEHICLE 5 TYPE             VEHICLE 1 FACTOR  \\\n",
       "0            NaN             NaN             NaN  TRAFFIC CONTROL DISREGARDED   \n",
       "\n",
       "   VEHICLE 2 FACTOR  VEHICLE 3 FACTOR  VEHICLE 4 FACTOR  VEHICLE 5 FACTOR  \\\n",
       "0               NaN               NaN               NaN               NaN   \n",
       "\n",
       "   year year-month  \n",
       "0  2015     2015-1  \n",
       "\n",
       "[1 rows x 31 columns]"
      ]
     },
     "execution_count": 30,
     "metadata": {},
     "output_type": "execute_result"
    }
   ],
   "source": [
    "data.head(1)"
   ]
  },
  {
   "cell_type": "code",
   "execution_count": 37,
   "metadata": {
    "collapsed": false
   },
   "outputs": [],
   "source": [
    "bouroughs = data['BOROUGH'].unique()\n",
    "bouroughs_length = len(bouroughs)\n",
    "data_required = pd.DataFrame({'BOROUGH':bouroughs,'ONE_VEHICLE_INVOLVED':range(bouroughs_length),\n",
    "                             'TWO_VEHICLE_INVOLVED':range(bouroughs_length),\n",
    "                              'THREE_VEHICLE_INVOLVED':range(bouroughs_length),\n",
    "                              'MORE_VEHICLE_INVOLVED':range(bouroughs_length)\n",
    "                             })\n",
    "data['year']=[i.year for i in data['DATE']]\n",
    "data_gt_2015 = data[data['year']>=2015]\n",
    "one_vehicle_count"
   ]
  },
  {
   "cell_type": "code",
   "execution_count": 36,
   "metadata": {
    "collapsed": false
   },
   "outputs": [
    {
     "data": {
      "text/html": [
       "<div>\n",
       "<table border=\"1\" class=\"dataframe\">\n",
       "  <thead>\n",
       "    <tr style=\"text-align: right;\">\n",
       "      <th></th>\n",
       "      <th>BOROUGH</th>\n",
       "      <th>MORE_VEHICLE_INVOLVED</th>\n",
       "      <th>ONE_VEHICLE_INVOLVED</th>\n",
       "      <th>THREE_VEHICLE_INVOLVED</th>\n",
       "      <th>TWO_VEHICLE_INVOLVED</th>\n",
       "    </tr>\n",
       "  </thead>\n",
       "  <tbody>\n",
       "    <tr>\n",
       "      <th>0</th>\n",
       "      <td>QUEENS</td>\n",
       "      <td>0</td>\n",
       "      <td>0</td>\n",
       "      <td>0</td>\n",
       "      <td>0</td>\n",
       "    </tr>\n",
       "    <tr>\n",
       "      <th>1</th>\n",
       "      <td>NaN</td>\n",
       "      <td>1</td>\n",
       "      <td>1</td>\n",
       "      <td>1</td>\n",
       "      <td>1</td>\n",
       "    </tr>\n",
       "    <tr>\n",
       "      <th>2</th>\n",
       "      <td>BROOKLYN</td>\n",
       "      <td>2</td>\n",
       "      <td>2</td>\n",
       "      <td>2</td>\n",
       "      <td>2</td>\n",
       "    </tr>\n",
       "    <tr>\n",
       "      <th>3</th>\n",
       "      <td>MANHATTAN</td>\n",
       "      <td>3</td>\n",
       "      <td>3</td>\n",
       "      <td>3</td>\n",
       "      <td>3</td>\n",
       "    </tr>\n",
       "    <tr>\n",
       "      <th>4</th>\n",
       "      <td>BRONX</td>\n",
       "      <td>4</td>\n",
       "      <td>4</td>\n",
       "      <td>4</td>\n",
       "      <td>4</td>\n",
       "    </tr>\n",
       "    <tr>\n",
       "      <th>5</th>\n",
       "      <td>STATEN ISLAND</td>\n",
       "      <td>5</td>\n",
       "      <td>5</td>\n",
       "      <td>5</td>\n",
       "      <td>5</td>\n",
       "    </tr>\n",
       "  </tbody>\n",
       "</table>\n",
       "</div>"
      ],
      "text/plain": [
       "         BOROUGH  MORE_VEHICLE_INVOLVED  ONE_VEHICLE_INVOLVED  \\\n",
       "0         QUEENS                      0                     0   \n",
       "1            NaN                      1                     1   \n",
       "2       BROOKLYN                      2                     2   \n",
       "3      MANHATTAN                      3                     3   \n",
       "4          BRONX                      4                     4   \n",
       "5  STATEN ISLAND                      5                     5   \n",
       "\n",
       "   THREE_VEHICLE_INVOLVED  TWO_VEHICLE_INVOLVED  \n",
       "0                       0                     0  \n",
       "1                       1                     1  \n",
       "2                       2                     2  \n",
       "3                       3                     3  \n",
       "4                       4                     4  \n",
       "5                       5                     5  "
      ]
     },
     "execution_count": 36,
     "metadata": {},
     "output_type": "execute_result"
    }
   ],
   "source": [
    "data_required"
   ]
  },
  {
   "cell_type": "code",
   "execution_count": 38,
   "metadata": {
    "collapsed": false
   },
   "outputs": [
    {
     "data": {
      "text/html": [
       "<div>\n",
       "<table border=\"1\" class=\"dataframe\">\n",
       "  <thead>\n",
       "    <tr style=\"text-align: right;\">\n",
       "      <th></th>\n",
       "      <th>UNIQUE KEY</th>\n",
       "      <th>DATE</th>\n",
       "      <th>TIME</th>\n",
       "      <th>ZIP CODE</th>\n",
       "      <th>LATITUDE</th>\n",
       "      <th>LONGITUDE</th>\n",
       "      <th>LOCATION</th>\n",
       "      <th>ON STREET NAME</th>\n",
       "      <th>CROSS STREET NAME</th>\n",
       "      <th>OFF STREET NAME</th>\n",
       "      <th>...</th>\n",
       "      <th>VEHICLE 3 TYPE</th>\n",
       "      <th>VEHICLE 4 TYPE</th>\n",
       "      <th>VEHICLE 5 TYPE</th>\n",
       "      <th>VEHICLE 1 FACTOR</th>\n",
       "      <th>VEHICLE 2 FACTOR</th>\n",
       "      <th>VEHICLE 3 FACTOR</th>\n",
       "      <th>VEHICLE 4 FACTOR</th>\n",
       "      <th>VEHICLE 5 FACTOR</th>\n",
       "      <th>year</th>\n",
       "      <th>year-month</th>\n",
       "    </tr>\n",
       "    <tr>\n",
       "      <th>BOROUGH</th>\n",
       "      <th></th>\n",
       "      <th></th>\n",
       "      <th></th>\n",
       "      <th></th>\n",
       "      <th></th>\n",
       "      <th></th>\n",
       "      <th></th>\n",
       "      <th></th>\n",
       "      <th></th>\n",
       "      <th></th>\n",
       "      <th></th>\n",
       "      <th></th>\n",
       "      <th></th>\n",
       "      <th></th>\n",
       "      <th></th>\n",
       "      <th></th>\n",
       "      <th></th>\n",
       "      <th></th>\n",
       "      <th></th>\n",
       "      <th></th>\n",
       "      <th></th>\n",
       "    </tr>\n",
       "  </thead>\n",
       "  <tbody>\n",
       "    <tr>\n",
       "      <th>BRONX</th>\n",
       "      <td>24884</td>\n",
       "      <td>24884</td>\n",
       "      <td>24884</td>\n",
       "      <td>24884</td>\n",
       "      <td>20549</td>\n",
       "      <td>20549</td>\n",
       "      <td>20549</td>\n",
       "      <td>17480</td>\n",
       "      <td>17480</td>\n",
       "      <td>7370</td>\n",
       "      <td>...</td>\n",
       "      <td>1335</td>\n",
       "      <td>347</td>\n",
       "      <td>101</td>\n",
       "      <td>24652</td>\n",
       "      <td>20882</td>\n",
       "      <td>1441</td>\n",
       "      <td>372</td>\n",
       "      <td>106</td>\n",
       "      <td>24884</td>\n",
       "      <td>24884</td>\n",
       "    </tr>\n",
       "    <tr>\n",
       "      <th>BROOKLYN</th>\n",
       "      <td>54142</td>\n",
       "      <td>54142</td>\n",
       "      <td>54142</td>\n",
       "      <td>54138</td>\n",
       "      <td>45336</td>\n",
       "      <td>45336</td>\n",
       "      <td>45336</td>\n",
       "      <td>40036</td>\n",
       "      <td>40036</td>\n",
       "      <td>14099</td>\n",
       "      <td>...</td>\n",
       "      <td>3297</td>\n",
       "      <td>815</td>\n",
       "      <td>233</td>\n",
       "      <td>53466</td>\n",
       "      <td>45812</td>\n",
       "      <td>3540</td>\n",
       "      <td>887</td>\n",
       "      <td>247</td>\n",
       "      <td>54142</td>\n",
       "      <td>54142</td>\n",
       "    </tr>\n",
       "    <tr>\n",
       "      <th>MANHATTAN</th>\n",
       "      <td>41105</td>\n",
       "      <td>41105</td>\n",
       "      <td>41105</td>\n",
       "      <td>41103</td>\n",
       "      <td>34666</td>\n",
       "      <td>34666</td>\n",
       "      <td>34666</td>\n",
       "      <td>31576</td>\n",
       "      <td>31577</td>\n",
       "      <td>9525</td>\n",
       "      <td>...</td>\n",
       "      <td>1190</td>\n",
       "      <td>291</td>\n",
       "      <td>72</td>\n",
       "      <td>40529</td>\n",
       "      <td>35198</td>\n",
       "      <td>1340</td>\n",
       "      <td>333</td>\n",
       "      <td>87</td>\n",
       "      <td>41105</td>\n",
       "      <td>41105</td>\n",
       "    </tr>\n",
       "    <tr>\n",
       "      <th>QUEENS</th>\n",
       "      <td>47187</td>\n",
       "      <td>47187</td>\n",
       "      <td>47187</td>\n",
       "      <td>47157</td>\n",
       "      <td>38604</td>\n",
       "      <td>38604</td>\n",
       "      <td>38604</td>\n",
       "      <td>34176</td>\n",
       "      <td>34176</td>\n",
       "      <td>12963</td>\n",
       "      <td>...</td>\n",
       "      <td>3104</td>\n",
       "      <td>797</td>\n",
       "      <td>171</td>\n",
       "      <td>46766</td>\n",
       "      <td>40694</td>\n",
       "      <td>3301</td>\n",
       "      <td>846</td>\n",
       "      <td>185</td>\n",
       "      <td>47187</td>\n",
       "      <td>47187</td>\n",
       "    </tr>\n",
       "    <tr>\n",
       "      <th>STATEN ISLAND</th>\n",
       "      <td>7709</td>\n",
       "      <td>7709</td>\n",
       "      <td>7709</td>\n",
       "      <td>7709</td>\n",
       "      <td>6480</td>\n",
       "      <td>6480</td>\n",
       "      <td>6480</td>\n",
       "      <td>5941</td>\n",
       "      <td>5941</td>\n",
       "      <td>1768</td>\n",
       "      <td>...</td>\n",
       "      <td>469</td>\n",
       "      <td>94</td>\n",
       "      <td>15</td>\n",
       "      <td>7659</td>\n",
       "      <td>6667</td>\n",
       "      <td>496</td>\n",
       "      <td>102</td>\n",
       "      <td>17</td>\n",
       "      <td>7709</td>\n",
       "      <td>7709</td>\n",
       "    </tr>\n",
       "  </tbody>\n",
       "</table>\n",
       "<p>5 rows × 30 columns</p>\n",
       "</div>"
      ],
      "text/plain": [
       "               UNIQUE KEY   DATE   TIME  ZIP CODE  LATITUDE  LONGITUDE  \\\n",
       "BOROUGH                                                                  \n",
       "BRONX               24884  24884  24884     24884     20549      20549   \n",
       "BROOKLYN            54142  54142  54142     54138     45336      45336   \n",
       "MANHATTAN           41105  41105  41105     41103     34666      34666   \n",
       "QUEENS              47187  47187  47187     47157     38604      38604   \n",
       "STATEN ISLAND        7709   7709   7709      7709      6480       6480   \n",
       "\n",
       "               LOCATION  ON STREET NAME  CROSS STREET NAME  OFF STREET NAME  \\\n",
       "BOROUGH                                                                       \n",
       "BRONX             20549           17480              17480             7370   \n",
       "BROOKLYN          45336           40036              40036            14099   \n",
       "MANHATTAN         34666           31576              31577             9525   \n",
       "QUEENS            38604           34176              34176            12963   \n",
       "STATEN ISLAND      6480            5941               5941             1768   \n",
       "\n",
       "                  ...      VEHICLE 3 TYPE  VEHICLE 4 TYPE  VEHICLE 5 TYPE  \\\n",
       "BOROUGH           ...                                                       \n",
       "BRONX             ...                1335             347             101   \n",
       "BROOKLYN          ...                3297             815             233   \n",
       "MANHATTAN         ...                1190             291              72   \n",
       "QUEENS            ...                3104             797             171   \n",
       "STATEN ISLAND     ...                 469              94              15   \n",
       "\n",
       "               VEHICLE 1 FACTOR  VEHICLE 2 FACTOR  VEHICLE 3 FACTOR  \\\n",
       "BOROUGH                                                               \n",
       "BRONX                     24652             20882              1441   \n",
       "BROOKLYN                  53466             45812              3540   \n",
       "MANHATTAN                 40529             35198              1340   \n",
       "QUEENS                    46766             40694              3301   \n",
       "STATEN ISLAND              7659              6667               496   \n",
       "\n",
       "               VEHICLE 4 FACTOR  VEHICLE 5 FACTOR   year  year-month  \n",
       "BOROUGH                                                               \n",
       "BRONX                       372               106  24884       24884  \n",
       "BROOKLYN                    887               247  54142       54142  \n",
       "MANHATTAN                   333                87  41105       41105  \n",
       "QUEENS                      846               185  47187       47187  \n",
       "STATEN ISLAND               102                17   7709        7709  \n",
       "\n",
       "[5 rows x 30 columns]"
      ]
     },
     "execution_count": 38,
     "metadata": {},
     "output_type": "execute_result"
    }
   ],
   "source": [
    "data_gt_2015.groupby('BOROUGH').count()"
   ]
  },
  {
   "cell_type": "code",
   "execution_count": 39,
   "metadata": {
    "collapsed": true
   },
   "outputs": [],
   "source": [
    "data['year']=[i.year for i in data['DATE']]\n",
    "data_gt_2015 = data[data['year']>=2015]\n",
    "data_required = data_gt_2015.groupby('BOROUGH').count()"
   ]
  },
  {
   "cell_type": "code",
   "execution_count": null,
   "metadata": {
    "collapsed": true
   },
   "outputs": [],
   "source": [
    "data_required = pd.DataFrame({'BOROUGH':data_required['BOROUGH'],'ONE_VEHICLE_INVOLVED':data_required[''],\n",
    "                             'TWO_VEHICLE_INVOLVED':data_required[''],\n",
    "                              'THREE_VEHICLE_INVOLVED':data_required[''],\n",
    "                              'MORE_VEHICLE_INVOLVED':data_required['']\n",
    "                             })"
   ]
  }
 ],
 "metadata": {
  "anaconda-cloud": {},
  "kernelspec": {
   "display_name": "Python [default]",
   "language": "python",
   "name": "python2"
  },
  "language_info": {
   "codemirror_mode": {
    "name": "ipython",
    "version": 2
   },
   "file_extension": ".py",
   "mimetype": "text/x-python",
   "name": "python",
   "nbconvert_exporter": "python",
   "pygments_lexer": "ipython2",
   "version": "2.7.12"
  }
 },
 "nbformat": 4,
 "nbformat_minor": 1
}
