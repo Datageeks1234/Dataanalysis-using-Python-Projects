{
 "cells": [
  {
   "cell_type": "markdown",
   "metadata": {},
   "source": [
    "## Question3_Part1"
   ]
  },
  {
   "cell_type": "code",
   "execution_count": 1,
   "metadata": {
    "collapsed": true
   },
   "outputs": [],
   "source": [
    "import pandas as pd \n",
    "import os"
   ]
  },
  {
   "cell_type": "code",
   "execution_count": 2,
   "metadata": {
    "collapsed": true
   },
   "outputs": [],
   "source": [
    "cricket_data = pd.read_csv(os.path.join(\"data\",'cricket_matches.csv'))"
   ]
  },
  {
   "cell_type": "code",
   "execution_count": 3,
   "metadata": {
    "collapsed": true
   },
   "outputs": [],
   "source": [
    "def get_score(i):\n",
    "    if cricket_data['home'].ix[i] == cricket_data['innings1'].ix[i]:\n",
    "        return cricket_data['innings1_runs'].ix[i]\n",
    "    return cricket_data['innings2_runs'].ix[i]"
   ]
  },
  {
   "cell_type": "code",
   "execution_count": 17,
   "metadata": {
    "collapsed": true
   },
   "outputs": [],
   "source": [
    "cricket_data['home_score']= map(get_score, cricket_data.index)\n",
    "cricket_data['home_score']= map(float,cricket_data['home_score'].values )\n",
    "host_win_data = cricket_data[cricket_data['home'] == cricket_data['winner']]\n",
    "mean_data = host_win_data.groupby('home').mean()"
   ]
  },
  {
   "cell_type": "code",
   "execution_count": 28,
   "metadata": {
    "collapsed": false
   },
   "outputs": [
    {
     "data": {
      "text/plain": [
       "home\n",
       "Abahani Limited       172.0\n",
       "Abbottabad Falcons    138.0\n",
       "Name: innings1_runs, dtype: float64"
      ]
     },
     "execution_count": 28,
     "metadata": {},
     "output_type": "execute_result"
    }
   ],
   "source": [
    "#mean_data['home_score'].head(2)\n",
    "mean_data['innings1_runs'].head(2)"
   ]
  },
  {
   "cell_type": "code",
   "execution_count": 21,
   "metadata": {
    "collapsed": false
   },
   "outputs": [],
   "source": [
    "mean_data['innings1_runs'].to_csv('Q3_PARTONE.csv')"
   ]
  },
  {
   "cell_type": "markdown",
   "metadata": {},
   "source": [
    "## Question4_PART1"
   ]
  },
  {
   "cell_type": "code",
   "execution_count": 29,
   "metadata": {
    "collapsed": true
   },
   "outputs": [],
   "source": [
    "import re"
   ]
  },
  {
   "cell_type": "code",
   "execution_count": 30,
   "metadata": {
    "collapsed": true
   },
   "outputs": [],
   "source": [
    "movie_data = pd.read_csv(os.path.join(\"data\",'movies_awards.csv'))\n",
    "lenght_movies = movie_data['Title'].count()\n",
    "dummy=[0 for i in range(lenght_movies)]\n",
    "d={}"
   ]
  },
  {
   "cell_type": "code",
   "execution_count": 31,
   "metadata": {
    "collapsed": true
   },
   "outputs": [],
   "source": [
    "columns = ['Awards_won','Awards_nominated','Primetime_awards_won','Primetime_awards_nominated',\n",
    "           'Oscar_awards_won','Oscar_awards_nominated','Golden_Globe_awards_won','Golden_Globe_awards_nominated',\n",
    "          'BAFTA_awards_won','BAFTA_awards_nominated','Another_nominated','Another_won']\n",
    "cols = {'Movies':movie_data['Title'],'Awards':movie_data['Awards']}\n",
    "cols1 = d.fromkeys(columns,dummy)\n",
    "cols.update(cols1)\n",
    "req_data = pd.DataFrame(cols)\n",
    "req_data['Awards'].fillna(\"\",inplace=True)\n",
    "req_data['Awards'] = [i.lower() for i in req_data['Awards'].values]\n",
    "nominated = 'nominated for [0-9]+'"
   ]
  },
  {
   "cell_type": "code",
   "execution_count": 32,
   "metadata": {
    "collapsed": false
   },
   "outputs": [
    {
     "name": "stderr",
     "output_type": "stream",
     "text": [
      "C:\\Users\\kamal\\Anaconda3\\lib\\site-packages\\pandas\\core\\indexing.py:141: SettingWithCopyWarning: \n",
      "A value is trying to be set on a copy of a slice from a DataFrame\n",
      "\n",
      "See the caveats in the documentation: http://pandas.pydata.org/pandas-docs/stable/indexing.html#indexing-view-versus-copy\n",
      "  self._setitem_with_indexer(indexer, value)\n"
     ]
    }
   ],
   "source": [
    "for i in req_data.index:\n",
    "    awards  = req_data['Awards'].ix[i]\n",
    "    if awards:\n",
    "        if 'nominated for' in awards:\n",
    "            oscar = re.findall('{0} oscar'.format(nominated),awards)\n",
    "            goldenglobe = re.findall('{0} golden globe'.format(nominated),awards)\n",
    "            primetime = re.findall('{0} primetime'.format(nominated),awards)\n",
    "            bafta = re.findall('{0} BAFTA'.format(nominated),awards)\n",
    "            another = re.findall('{0} another'.format(nominated),awards) \n",
    "            if oscar:\n",
    "                req_data['Oscar_awards_nominated'].ix[i] = oscar[0].split()[-2]\n",
    "            if goldenglobe:\n",
    "                req_data['Golden_Globe_awards_nominated'].ix[i] = goldenglobe[0].split()[-3]\n",
    "            if primetime:\n",
    "                req_data['Primetime_awards_nominated'].ix[i] = primetime[0].split()[-2]\n",
    "            if bafta:\n",
    "                req_data['BAFTA_awards_nominated'].ix[i] = bafta[0].split()[-2]\n",
    "            if another:\n",
    "                req_data['Another_nominated'].ix[i] = another[0].split()[-2]\n",
    "        if 'won' in awards or \"win\" in awards:\n",
    "            oscar_wins = re.findall('won [0-9]+ oscar',awards)\n",
    "            primetime_wins = re.findall('won [0-9]+ primetime',awards)\n",
    "            bafta_wins = re.findall('won [0-9]+ bafta',awards)\n",
    "            another_wins = re.findall('another [0-9]+ win',awards)\n",
    "            goldenglobe_wins = re.findall('won [0-9]+ goldenglobe',awards)\n",
    "            if oscar_wins:\n",
    "                req_data['Oscar_awards_won'].ix[i] = oscar_wins[0].split()[-2]\n",
    "            if goldenglobe_wins:\n",
    "                req_data['Golden_Globe_awards_won'].ix[i] = goldenglobe_wins[0].split()[-3]\n",
    "            if primetime_wins:\n",
    "                req_data['Primetime_awards_won'].ix[i] = primetime_wins[0].split()[-2]\n",
    "            if bafta_wins:\n",
    "                req_data['BAFTA_awards_won'].ix[i] = bafta_wins[0].split()[-2]\n",
    "            if another_wins:\n",
    "                req_data['Another_won'].ix[i] = another_wins[0].split()[-2]\n",
    "\n",
    "        if re.search('another [0-9]+ nominat',awards):\n",
    "            anot = re.findall('another [0-9]+ nominat',awards)\n",
    "            if anot:\n",
    "                req_data['Another_nominated'].ix[i] = anot[0].split()[-2]\n",
    "                \n",
    "        if 'win' in awards:\n",
    "            wins = re.findall('[0-9 ]+win[s]*',awards)\n",
    "            if wins:\n",
    "                req_data['Awards_won'].ix[i]= wins[0].split()[0]\n",
    "        if 'nominat' in awards:\n",
    "            nomi = re.findall('[0-9 ]+nominat*',awards)\n",
    "            if nomi:\n",
    "                req_data['Awards_nominated'].ix[i] = nomi[0].split()[0]"
   ]
  },
  {
   "cell_type": "code",
   "execution_count": 33,
   "metadata": {
    "collapsed": false
   },
   "outputs": [
    {
     "name": "stdout",
     "output_type": "stream",
     "text": [
      "  Another_nominated Another_won Awards Awards_nominated Awards_won  \\\n",
      "0                 0           0                       0          0   \n",
      "1                 0           0                       0          0   \n",
      "\n",
      "   BAFTA_awards_nominated  BAFTA_awards_won Golden_Globe_awards_nominated  \\\n",
      "0                       0                 0                             0   \n",
      "1                       0                 0                             0   \n",
      "\n",
      "   Golden_Globe_awards_won                                             Movies  \\\n",
      "0                        0  Book of Love: The Definitive Reason Why Men Ar...   \n",
      "1                        0                              Anderssons älskarinna   \n",
      "\n",
      "  Oscar_awards_nominated Oscar_awards_won Primetime_awards_nominated  \\\n",
      "0                      0                0                          0   \n",
      "1                      0                0                          0   \n",
      "\n",
      "  Primetime_awards_won  \n",
      "0                    0  \n",
      "1                    0  \n"
     ]
    }
   ],
   "source": [
    "print(req_data.head(2))"
   ]
  },
  {
   "cell_type": "code",
   "execution_count": 34,
   "metadata": {
    "collapsed": true
   },
   "outputs": [],
   "source": [
    "req_data.to_csv('Q4_PART_1.csv')"
   ]
  }
 ],
 "metadata": {
  "kernelspec": {
   "display_name": "Python [conda root]",
   "language": "python",
   "name": "conda-root-py"
  },
  "language_info": {
   "codemirror_mode": {
    "name": "ipython",
    "version": 3
   },
   "file_extension": ".py",
   "mimetype": "text/x-python",
   "name": "python",
   "nbconvert_exporter": "python",
   "pygments_lexer": "ipython3",
   "version": "3.5.2"
  }
 },
 "nbformat": 4,
 "nbformat_minor": 1
}
